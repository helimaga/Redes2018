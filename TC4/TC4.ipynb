{
 "cells": [
  {
   "cell_type": "markdown",
   "metadata": {},
   "source": [
    "#### Trabajo Computacional TC_04\n",
    "\n",
    "##### Heli Magali García Álvarez\n",
    "##### Santiago Scheiner\n",
    "##### Juan Ignacio Gossn"
   ]
  },
  {
   "cell_type": "markdown",
   "metadata": {},
   "source": [
    "### Bloque de inicialización\n",
    "\n",
    "\n",
    "Importamos todos los modulos que necesitaremos para el trabajo:\n"
   ]
  },
  {
   "cell_type": "code",
   "execution_count": null,
   "metadata": {},
   "outputs": [],
   "source": [
    "import networkx as nx\n",
    "import matplotlib.pyplot as plt\n",
    "import numpy as np\n",
    "import pandas as pd\n",
    "import scipy as sp\n",
    "'''\n",
    "from scipy import stats\n",
    "from matplotlib import pylab\n",
    "from sklearn.linear_model import LinearRegression\n",
    "import random\n",
    "import matplotlib.patches as mpatches\n",
    "from statsmodels.stats.proportion import proportions_ztest\n",
    "import collections\n",
    "import igraph\n",
    "import itertools\n",
    "from matplotlib_venn import venn3, venn3_circles\n",
    "'''"
   ]
  },
  {
   "cell_type": "markdown",
   "metadata": {},
   "source": [
    "### Selección de path según la máquina de trabajo:"
   ]
  },
  {
   "cell_type": "code",
   "execution_count": null,
   "metadata": {},
   "outputs": [],
   "source": [
    "pathHeli = '/home/heli/Documents/Redes/Practicas/TC_01/'\n",
    "pathJuancho = '/home/gossn/Dropbox/Documents/Materias_doctorado/RedesComplejas/tc01_data/'\n",
    "pathSanti = '/home/santiago/Documentos/RC/tc01_data/'\n",
    "pathDocente = '?'\n",
    "\n",
    "path = pathSanti"
   ]
  },
  {
   "cell_type": "markdown",
   "metadata": {},
   "source": [
    "Configuraciones para los gráficos:"
   ]
  },
  {
   "cell_type": "code",
   "execution_count": null,
   "metadata": {},
   "outputs": [],
   "source": [
    "plt.close('all')\n",
    "plt.rc('text', usetex=True)\n",
    "plt.rc('font', family='serif')\n",
    "\n",
    "TitleSize=20\n",
    "AxisLabelSize=20\n",
    "LegendSize=11\n",
    "NumberSize=12\n",
    "LabelSize=8 # etiquetas de los nodos\n",
    "NodeSize=50 # tamaño de los nodos"
   ]
  },
  {
   "cell_type": "markdown",
   "metadata": {},
   "source": [
    "Definición de función de lectura de las tablas:"
   ]
  },
  {
   "cell_type": "code",
   "execution_count": null,
   "metadata": {},
   "outputs": [],
   "source": [
    "def ldata(archivo):\n",
    "\n",
    "    f=open(archivo)\n",
    "    data=[]\n",
    "    for line in f:\n",
    "        line=line.strip()\n",
    "        col=line.split()\n",
    "        data.append(col)\n",
    "    return data"
   ]
  }
 ],
 "metadata": {
  "kernelspec": {
   "display_name": "Python 3",
   "language": "python",
   "name": "python3"
  },
  "language_info": {
   "codemirror_mode": {
    "name": "ipython",
    "version": 3
   },
   "file_extension": ".py",
   "mimetype": "text/x-python",
   "name": "python",
   "nbconvert_exporter": "python",
   "pygments_lexer": "ipython3",
   "version": "3.6.4"
  }
 },
 "nbformat": 4,
 "nbformat_minor": 2
}
