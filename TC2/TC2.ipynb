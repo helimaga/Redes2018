{
 "cells": [
  {
   "cell_type": "markdown",
   "metadata": {},
   "source": [
    "# Trabajo Computacional TC_02\n",
    "\n",
    "##### Heli Magali García Álvarez\n",
    "##### Santiago Scheiner\n",
    "##### Juan Ignacio Gossn"
   ]
  },
  {
   "cell_type": "markdown",
   "metadata": {},
   "source": [
    "# Objetivo principal\n",
    "## El objetivo es reproducir algunos de los análisis reportados en los trabajos de Zotenko et. al (2008) y He et al. (2006) para las cuatro redes de proteı́nas de levaduras de las cuales disponemos: Y2H, AP-MS, LIT y LIT-REGULY. La red LIT-REGULY, al igual que LIT es una red construida a partir de interacciones reportadas en la literatura. El trabajo a presentar no sólo deberá mostrar los resultados de estos análisis (tablas y gráficos), sino que también deberá ponerlos en su debido contexto y debatir sobre la naturaleza de los mismos, respetando la estructura usual de un artı́culo o informe (con, a lo sumo, 10 carillas). A continuación se propone un POSIBLE esquema para el informe:\n",
    "\n",
    "## A) Introducción\n",
    "#### Breve introducción sobre la relación entre centralidad y letalidad en redes de proteı́nas.\n",
    "\n",
    "## B) Caracterı́sticas de las redes analizadas\n",
    "#### Se deben incluir los siguientes resultados:\n",
    "#### Tabla 1 de Zotenko et. al. (2008)\n",
    "#### Tabla 2 de Zotenko et. al. (2008)\n",
    "#### Figura 1.a de Zotenko et. al. (2008)\n",
    "\n",
    "## C) Análisis de vulnerabilidad\n",
    "#### Se deben incluir los siguientes resultados:\n",
    "#### Figura 3 de Zotenko et. al. (2008)\n",
    "#### Tabla 3 de Zotenko et. al. (2008)\n",
    "\n",
    "## D) Esencialidad: Módulos biológicos vs. Interacciónes Esenciales\n",
    "#### Se deben incluir los siguientes resultados:\n",
    "#### Figura 2.b de He et. al. (2006) - Para cada una de las redes obtener α y β.\n",
    "#### Tabla 5 de Zotenko et. al. (2008) - En Número esperado solo deben incluir el obtenido a partir del ajuste lineal.\n",
    "#### El esquema del informe puede modificarse como ustedes gusten, y pueden agregar cualquier tipo de análisis extra que consideren interesante, pero siempre manteniendo como mı́nimo los resultados aquı́ solicitados."
   ]
  },
  {
   "cell_type": "markdown",
   "metadata": {},
   "source": [
    "### Bloque de inicialización\n",
    "\n",
    "\n",
    "Importamos todos los modulos que necesitaremos para el trabajo:\n"
   ]
  },
  {
   "cell_type": "code",
   "execution_count": 3,
   "metadata": {},
   "outputs": [
    {
     "data": {
      "text/plain": [
       "'\\nfrom scipy import stats\\nfrom matplotlib import pylab\\nfrom sklearn.linear_model import LinearRegression\\nimport random\\nimport matplotlib.patches as mpatches\\nfrom statsmodels.stats.proportion import proportions_ztest\\nimport collections\\nimport igraph\\nimport itertools\\nfrom matplotlib_venn import venn3, venn3_circles\\n'"
      ]
     },
     "execution_count": 3,
     "metadata": {},
     "output_type": "execute_result"
    }
   ],
   "source": [
    "import networkx as nx\n",
    "import matplotlib.pyplot as plt\n",
    "import numpy as np\n",
    "import pandas as pd\n",
    "import scipy as sp\n",
    "'''\n",
    "from scipy import stats\n",
    "from matplotlib import pylab\n",
    "from sklearn.linear_model import LinearRegression\n",
    "import random\n",
    "import matplotlib.patches as mpatches\n",
    "from statsmodels.stats.proportion import proportions_ztest\n",
    "import collections\n",
    "import igraph\n",
    "import itertools\n",
    "from matplotlib_venn import venn3, venn3_circles\n",
    "'''"
   ]
  },
  {
   "cell_type": "markdown",
   "metadata": {},
   "source": [
    "### Selección de path según la máquina de trabajo:"
   ]
  },
  {
   "cell_type": "code",
   "execution_count": 11,
   "metadata": {
    "collapsed": true
   },
   "outputs": [],
   "source": [
    "pathHeli = '/home/heli/Documents/Redes/Practicas/TC_01/'\n",
    "pathJuancho = '/home/gossn/Dropbox/Documents/Materias_doctorado/RedesComplejasBiologicos/tc02Data/'\n",
    "pathSanti = '/home/santiago/Documentos/RC/tc02_data/'\n",
    "pathDocente = '?'\n",
    "\n",
    "path = pathJuancho"
   ]
  },
  {
   "cell_type": "markdown",
   "metadata": {},
   "source": [
    "Configuraciones para los gráficos:"
   ]
  },
  {
   "cell_type": "code",
   "execution_count": 4,
   "metadata": {},
   "outputs": [],
   "source": [
    "plt.close('all')\n",
    "plt.rc('text', usetex=True)\n",
    "plt.rc('font', family='serif')\n",
    "\n",
    "TitleSize=20\n",
    "AxisLabelSize=20\n",
    "LegendSize=11\n",
    "NumberSize=12\n",
    "LabelSize=8 # etiquetas de los nodos\n",
    "NodeSize=50 # tamaño de los nodos"
   ]
  },
  {
   "cell_type": "markdown",
   "metadata": {},
   "source": [
    "Definición de función de lectura de las tablas:"
   ]
  },
  {
   "cell_type": "code",
   "execution_count": 5,
   "metadata": {
    "collapsed": true
   },
   "outputs": [],
   "source": [
    "'''\n",
    "def ldata(archivo):\n",
    "\n",
    "    f=open(archivo)\n",
    "    data=[]\n",
    "    for line in f:\n",
    "        line=line.strip()\n",
    "        col=line.split()\n",
    "        data.append(col)\n",
    "    return data\n",
    "'''"
   ]
  },
  {
   "cell_type": "code",
   "execution_count": 46,
   "metadata": {},
   "outputs": [
    {
     "name": "stdout",
     "output_type": "stream",
     "text": [
      "<class 'networkx.classes.graph.Graph'>\n",
      "<class 'networkx.classes.graph.Graph'>\n",
      "<class 'networkx.classes.graph.Graph'>\n",
      "<class 'networkx.classes.graph.Graph'>\n"
     ]
    }
   ],
   "source": [
    "redesStr = ['Y2H','AP-MS','LIT','LIT_Reguly']\n",
    "redes = {}\n",
    "\n",
    "for s in redesStr:\n",
    "    df = pd.read_csv(path + 'yeast_' + s + '.txt', sep = '\\t')\n",
    "    if s == 'LIT_Reguly':\n",
    "        net = df[['Hit gene/protein','Hit gene/protein']].values.tolist()\n",
    "    else:\n",
    "        net = df.values.tolist()\n",
    "    redes[s] = nx.Graph(net)"
   ]
  },
  {
   "cell_type": "markdown",
   "metadata": {},
   "source": []
  }
 ],
 "metadata": {
  "kernelspec": {
   "display_name": "Python 3",
   "language": "python",
   "name": "python3"
  },
  "language_info": {
   "codemirror_mode": {
    "name": "ipython",
    "version": 3
   },
   "file_extension": ".py",
   "mimetype": "text/x-python",
   "name": "python",
   "nbconvert_exporter": "python",
   "pygments_lexer": "ipython3",
   "version": "3.6.3"
  }
 },
 "nbformat": 4,
 "nbformat_minor": 2
}
