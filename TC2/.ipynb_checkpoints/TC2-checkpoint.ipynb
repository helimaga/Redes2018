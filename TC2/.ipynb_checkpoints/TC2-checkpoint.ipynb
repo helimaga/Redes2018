{
 "cells": [
  {
   "cell_type": "markdown",
   "metadata": {},
   "source": [
    "# Trabajo Computacional TC_02\n",
    "\n",
    "##### Heli Magali García Álvarez\n",
    "##### Santiago Scheiner\n",
    "##### Juan Ignacio Gossn"
   ]
  },
  {
   "cell_type": "markdown",
   "metadata": {},
   "source": [
    "# Objetivo principal\n",
    "## El objetivo es reproducir algunos de los análisis reportados en los trabajos de Zotenko et. al (2008) y He et al. (2006) para las cuatro redes de proteínas de levaduras de las cuales disponemos: Y2H, AP-MS, LIT y LIT-REGULY. La red LIT-REGULY, al igual que LIT es una red construida a partir de interacciones reportadas en la literatura. El trabajo a presentar no sólo deberá mostrar los resultados de estos análisis (tablas y gráficos), sino que también deberá ponerlos en su debido contexto y debatir sobre la naturaleza de los mismos, respetando la estructura usual de un artículo o informe (con, a lo sumo, 10 carillas). A continuación se propone un POSIBLE esquema para el informe:\n",
    "\n",
    "## A) Introducción\n",
    "#### Breve introducción sobre la relación entre centralidad y letalidad en redes de proteínas.\n",
    "\n",
    "## B) Características de las redes analizadas\n",
    "#### Se deben incluir los siguientes resultados:\n",
    "#### Tabla 1 de Zotenko et. al. (2008)\n",
    "#### Tabla 2 de Zotenko et. al. (2008)\n",
    "#### Figura 1.a de Zotenko et. al. (2008)\n",
    "\n",
    "## C) Análisis de vulnerabilidad\n",
    "#### Se deben incluir los siguientes resultados:\n",
    "#### Figura 3 de Zotenko et. al. (2008)\n",
    "#### Tabla 3 de Zotenko et. al. (2008)\n",
    "\n",
    "## D) Esencialidad: Módulos biológicos vs. Interacciónes Esenciales\n",
    "#### Se deben incluir los siguientes resultados:\n",
    "#### Figura 2.b de He et. al. (2006) - Para cada una de las redes obtener α y β.\n",
    "#### Tabla 5 de Zotenko et. al. (2008) - En Número esperado solo deben incluir el obtenido a partir del ajuste lineal.\n",
    "#### El esquema del informe puede modificarse como ustedes gusten, y pueden agregar cualquier tipo de análisis extra que consideren interesante, pero siempre manteniendo como mínimo los resultados aquí solicitados."
   ]
  },
  {
   "cell_type": "markdown",
   "metadata": {},
   "source": [
    "### Bloque de inicialización\n",
    "\n",
    "\n",
    "Importamos todos los modulos que necesitaremos para el trabajo:\n"
   ]
  },
  {
   "cell_type": "code",
   "execution_count": 2,
   "metadata": {},
   "outputs": [
    {
     "data": {
      "text/plain": [
       "'\\nfrom scipy import stats\\nfrom matplotlib import pylab\\nfrom sklearn.linear_model import LinearRegression\\nimport random\\nimport matplotlib.patches as mpatches\\nfrom statsmodels.stats.proportion import proportions_ztest\\nimport collections\\nimport igraph\\nimport itertools\\nfrom matplotlib_venn import venn3, venn3_circles\\n'"
      ]
     },
     "execution_count": 2,
     "metadata": {},
     "output_type": "execute_result"
    }
   ],
   "source": [
    "import networkx as nx\n",
    "import matplotlib.pyplot as plt\n",
    "import numpy as np\n",
    "import pandas as pd\n",
    "import scipy as sp\n",
    "'''\n",
    "from scipy import stats\n",
    "from matplotlib import pylab\n",
    "from sklearn.linear_model import LinearRegression\n",
    "import random\n",
    "import matplotlib.patches as mpatches\n",
    "from statsmodels.stats.proportion import proportions_ztest\n",
    "import collections\n",
    "import igraph\n",
    "import itertools\n",
    "from matplotlib_venn import venn3, venn3_circles\n",
    "'''"
   ]
  },
  {
   "cell_type": "markdown",
   "metadata": {},
   "source": [
    "### Selección de path según la máquina de trabajo:"
   ]
  },
  {
   "cell_type": "code",
   "execution_count": 6,
   "metadata": {},
   "outputs": [],
   "source": [
    "pathHeli = '/home/heli/Documents/Redes/Practicas/TC_01/'\n",
    "pathJuancho = '/home/gossn/Dropbox/Documents/Materias_doctorado/RedesComplejasBiologicos/tc02Data/'\n",
    "pathSanti = '/home/santiago/Documentos/RC/tc02Data/'\n",
    "pathDocente = '?'\n",
    "\n",
    "path = pathSanti"
   ]
  },
  {
   "cell_type": "markdown",
   "metadata": {},
   "source": [
    "Configuraciones para los gráficos:"
   ]
  },
  {
   "cell_type": "code",
   "execution_count": 4,
   "metadata": {},
   "outputs": [],
   "source": [
    "plt.close('all')\n",
    "plt.rc('text', usetex=True)\n",
    "plt.rc('font', family='serif')\n",
    "\n",
    "TitleSize=20\n",
    "AxisLabelSize=20\n",
    "LegendSize=11\n",
    "NumberSize=12\n",
    "LabelSize=8 # etiquetas de los nodos\n",
    "NodeSize=50 # tamaño de los nodos"
   ]
  },
  {
   "cell_type": "markdown",
   "metadata": {},
   "source": [
    "Definición de función de lectura de las tablas:"
   ]
  },
  {
   "cell_type": "code",
   "execution_count": 5,
   "metadata": {
    "collapsed": true
   },
   "outputs": [],
   "source": [
    "'''\n",
    "def ldata(archivo):\n",
    "\n",
    "    f=open(archivo)\n",
    "    data=[]\n",
    "    for line in f:\n",
    "        line=line.strip()\n",
    "        col=line.split()\n",
    "        data.append(col)\n",
    "    return data\n",
    "'''"
   ]
  },
  {
   "cell_type": "code",
   "execution_count": 7,
   "metadata": {},
   "outputs": [],
   "source": [
    "redesStr = ['Y2H','AP-MS','LIT','LIT_Reguly']\n",
    "redes = {}\n",
    "\n",
    "for s in redesStr:\n",
    "    df = pd.read_csv(path + 'yeast_' + s + '.txt', sep = '\\t')\n",
    "    if s == 'LIT_Reguly':\n",
    "        net = df[['Hit gene/protein','Hit gene/protein']].values.tolist()\n",
    "    else:\n",
    "        net = df.values.tolist()\n",
    "    redes[s] = nx.Graph(net)"
   ]
  },
  {
   "cell_type": "markdown",
   "metadata": {},
   "source": []
  },
  {
   "cell_type": "code",
   "execution_count": 9,
   "metadata": {},
   "outputs": [
    {
     "name": "stdout",
     "output_type": "stream",
     "text": [
      "             Nodes   Edges Directionality    DegMean  DegMin  DegMax  \\\n",
      "Y2H         2017.0  2929.0     Prob-Undir   2.904313     1.0    91.0   \n",
      "AP-MS       1622.0  9069.0     Prob-Undir  11.182491     1.0   127.0   \n",
      "LIT         1535.0  2924.0     Prob-Undir   3.809772     1.0    40.0   \n",
      "LIT_Reguly  3129.0  3129.0     Prob-Undir   2.000000     2.0     2.0   \n",
      "\n",
      "            DegDensity     C_tri     C_avg  Diameter (Giant Subgraph)  \n",
      "Y2H           0.001441  0.023617  0.046217                       14.0  \n",
      "AP-MS         0.006899  0.618567  0.554389                       15.0  \n",
      "LIT           0.002484  0.346342  0.292683                       19.0  \n",
      "LIT_Reguly    0.000639  0.000000  0.000000                        0.0  \n"
     ]
    }
   ],
   "source": [
    "'''Tabla 1 de Zotenko et. al. (2008)'''\n",
    "\n",
    "dfB1 = pd.DataFrame()\n",
    "\n",
    "for s in redesStr:\n",
    "\t# i\n",
    "\tdfB1.loc[s,'Nodes'] = redes[s].number_of_nodes()\n",
    "\t# ii\n",
    "\tdfB1.loc[s,'Edges'] = redes[s].number_of_edges()\n",
    "\t# iii\n",
    "\tif len(redes[s]) == len(np.unique(redes[s],axis=0)):\n",
    "\t\tdfB1.loc[s,'Directionality'] = 'Prob-Undir'\n",
    "\telse:\n",
    "\t\tdfB1.loc[s,'Directionality'] = 'Dir'\n",
    "\t# iv\n",
    "\tnetDeg = np.array(list(redes[s].degree()))\n",
    "\tnetDeg = netDeg[:,1]\n",
    "\tnetDeg = netDeg.astype(int)\n",
    "\tdfB1.loc[s,'DegMean'] = np.mean(netDeg)\n",
    "\tdfB1.loc[s,'DegMin'] = np.min(netDeg)\n",
    "\tdfB1.loc[s,'DegMax'] = np.max(netDeg)\n",
    "\t# v\n",
    "\tdfB1.loc[s,'DegDensity'] = nx.density(redes[s])\n",
    "\t# vi\n",
    "\tdfB1.loc[s,'C_tri'] = nx.transitivity(redes[s])\n",
    "\tdfB1.loc[s,'C_avg'] = nx.average_clustering(redes[s])\n",
    "\t# vii Dado que las redes son disconexas, estimamos el diametro de la componente gigante\n",
    "\tgiant = max(nx.connected_component_subgraphs(redes[s]), key=len)\n",
    "\tdfB1.loc[s,'Diameter (Giant Subgraph)'] = nx.diameter(giant)\n",
    "\n",
    "print(df1b)"
   ]
  },
  {
   "cell_type": "code",
   "execution_count": 69,
   "metadata": {},
   "outputs": [
    {
     "name": "stdout",
     "output_type": "stream",
     "text": [
      "Elementos para la tabla 2:\n",
      "\n",
      " [['Y2H', 0.35795736241943005, 0.36539414972731266, 0.6291522062468969], [0.44512946979037726, 'AP-MS', 0.5690505548705275, 0.862515413070298], [0.48013029315960365, 0.6013029315960924, 'LIT', 0.9680781758957918], [0.4055608820709542, 0.44710770214126483, 0.4749121124960112, 'LIT_Reguly']]\n"
     ]
    }
   ],
   "source": [
    "'''Tabla 2 de Zotenko et. al. (2008)'''\n",
    "\n",
    "commonNodes = [[0 for j in range(len(redesStr))] for i in range(len(redesStr))]\n",
    "\n",
    "for i in range(len(redesStr)):\n",
    "    for j in range(len(redesStr)):\n",
    "        if redesStr[i]==redesStr[j]:\n",
    "            commonNodes[i][j]= redesStr[i] # Se guarda el nombre de las redes en la diagonal.\n",
    "        else:\n",
    "            for nodoi in list(redes[redesStr[i]]): # se recorren los nodos de la primera red.\n",
    "                if nodoi in list(redes[redesStr[j]]): # si está en la segunda red.\n",
    "                    commonNodes[i][j] += 1/len(list(redes[redesStr[i]]))  # normalizado por la cantidad de nodos.\n",
    "\n",
    "print('Elementos para la tabla 2:\\n\\n',commonNodes)\n",
    "\n",
    "# Falta armar la tabla con los elementos de esa matriz."
   ]
  },
  {
   "cell_type": "code",
   "execution_count": null,
   "metadata": {},
   "outputs": [],
   "source": [
    "'''Figura 1.a de Zotenko et. al. (2008)'''\n",
    "\n",
    "\n"
   ]
  },
  {
   "cell_type": "code",
   "execution_count": null,
   "metadata": {},
   "outputs": [],
   "source": []
  },
  {
   "cell_type": "code",
   "execution_count": null,
   "metadata": {},
   "outputs": [],
   "source": []
  },
  {
   "cell_type": "code",
   "execution_count": null,
   "metadata": {},
   "outputs": [],
   "source": []
  },
  {
   "cell_type": "code",
   "execution_count": null,
   "metadata": {},
   "outputs": [],
   "source": []
  },
  {
   "cell_type": "code",
   "execution_count": null,
   "metadata": {},
   "outputs": [],
   "source": []
  },
  {
   "cell_type": "code",
   "execution_count": null,
   "metadata": {},
   "outputs": [],
   "source": []
  },
  {
   "cell_type": "code",
   "execution_count": null,
   "metadata": {},
   "outputs": [],
   "source": []
  },
  {
   "cell_type": "code",
   "execution_count": null,
   "metadata": {},
   "outputs": [],
   "source": []
  }
 ],
 "metadata": {
  "kernelspec": {
   "display_name": "Python 3",
   "language": "python",
   "name": "python3"
  },
  "language_info": {
   "codemirror_mode": {
    "name": "ipython",
    "version": 3
   },
   "file_extension": ".py",
   "mimetype": "text/x-python",
   "name": "python",
   "nbconvert_exporter": "python",
   "pygments_lexer": "ipython3",
   "version": "3.6.4"
  }
 },
 "nbformat": 4,
 "nbformat_minor": 2
}
