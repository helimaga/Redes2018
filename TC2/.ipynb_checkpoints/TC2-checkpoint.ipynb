{
 "cells": [
  {
   "cell_type": "markdown",
   "metadata": {},
   "source": [
    "# Trabajo Computacional TC_02\n",
    "\n",
    "##### Heli Magali García Álvarez\n",
    "##### Santiago Scheiner\n",
    "##### Juan Ignacio Gossn"
   ]
  },
  {
   "cell_type": "markdown",
   "metadata": {},
   "source": [
    "# Objetivo principal\n",
    "## El objetivo es reproducir algunos de los análisis reportados en los trabajos de Zotenko et. al (2008) y He et al. (2006) para las cuatro redes de proteínas de levaduras de las cuales disponemos: Y2H, AP-MS, LIT y LIT-REGULY. La red LIT-REGULY, al igual que LIT es una red construida a partir de interacciones reportadas en la literatura. El trabajo a presentar no sólo deberá mostrar los resultados de estos análisis (tablas y gráficos), sino que también deberá ponerlos en su debido contexto y debatir sobre la naturaleza de los mismos, respetando la estructura usual de un artículo o informe (con, a lo sumo, 10 carillas). A continuación se propone un POSIBLE esquema para el informe:\n",
    "\n",
    "## A) Introducción\n",
    "#### Breve introducción sobre la relación entre centralidad y letalidad en redes de proteínas.\n",
    "\n",
    "## B) Características de las redes analizadas\n",
    "#### Se deben incluir los siguientes resultados:\n",
    "#### Tabla 1 de Zotenko et. al. (2008)\n",
    "#### Tabla 2 de Zotenko et. al. (2008)\n",
    "#### Figura 1.a de Zotenko et. al. (2008)\n",
    "\n",
    "## C) Análisis de vulnerabilidad\n",
    "#### Se deben incluir los siguientes resultados:\n",
    "#### Figura 3 de Zotenko et. al. (2008)\n",
    "#### Tabla 3 de Zotenko et. al. (2008)\n",
    "\n",
    "## D) Esencialidad: Módulos biológicos vs. Interacciónes Esenciales\n",
    "#### Se deben incluir los siguientes resultados:\n",
    "#### Figura 2.b de He et. al. (2006) - Para cada una de las redes obtener α y β.\n",
    "#### Tabla 5 de Zotenko et. al. (2008) - En Número esperado solo deben incluir el obtenido a partir del ajuste lineal.\n",
    "#### El esquema del informe puede modificarse como ustedes gusten, y pueden agregar cualquier tipo de análisis extra que consideren interesante, pero siempre manteniendo como mínimo los resultados aquí solicitados."
   ]
  },
  {
   "cell_type": "markdown",
   "metadata": {},
   "source": [
    "### Bloque de inicialización\n",
    "\n",
    "\n",
    "Importamos todos los modulos que necesitaremos para el trabajo:\n"
   ]
  },
  {
   "cell_type": "code",
   "execution_count": 2,
   "metadata": {},
   "outputs": [
    {
     "data": {
      "text/plain": [
       "'\\nfrom scipy import stats\\nfrom matplotlib import pylab\\nfrom sklearn.linear_model import LinearRegression\\nimport random\\nimport matplotlib.patches as mpatches\\nfrom statsmodels.stats.proportion import proportions_ztest\\nimport collections\\nimport igraph\\n\\nfrom matplotlib_venn import venn3, venn3_circles\\n'"
      ]
     },
     "execution_count": 2,
     "metadata": {},
     "output_type": "execute_result"
    }
   ],
   "source": [
    "import networkx as nx\n",
    "import matplotlib.pyplot as plt\n",
    "import numpy as np\n",
    "import pandas as pd\n",
    "import scipy as sp\n",
    "import itertools\n",
    "\n",
    "'''\n",
    "from scipy import stats\n",
    "from matplotlib import pylab\n",
    "from sklearn.linear_model import LinearRegression\n",
    "import random\n",
    "import matplotlib.patches as mpatches\n",
    "from statsmodels.stats.proportion import proportions_ztest\n",
    "import collections\n",
    "import igraph\n",
    "\n",
    "from matplotlib_venn import venn3, venn3_circles\n",
    "'''"
   ]
  },
  {
   "cell_type": "markdown",
   "metadata": {},
   "source": [
    "### Selección de path según la máquina de trabajo:"
   ]
  },
  {
   "cell_type": "code",
   "execution_count": 3,
   "metadata": {},
   "outputs": [],
   "source": [
    "pathHeli = '/home/heli/Documents/Redes/Practicas/TC_02/'\n",
    "pathJuancho = '/home/gossn/Dropbox/Documents/Materias_doctorado/RedesComplejasBiologicos/tc02Data/'\n",
    "pathSanti = '/home/santiago/Documentos/RC/tc02Data/'\n",
    "pathDocente = '?'\n",
    "\n",
    "path = pathHeli"
   ]
  },
  {
   "cell_type": "markdown",
   "metadata": {},
   "source": [
    "Configuraciones para los gráficos:"
   ]
  },
  {
   "cell_type": "code",
   "execution_count": 4,
   "metadata": {},
   "outputs": [],
   "source": [
    "plt.close('all')\n",
    "plt.rc('text', usetex=True)\n",
    "plt.rc('font', family='serif')\n",
    "\n",
    "TitleSize=20\n",
    "AxisLabelSize=20\n",
    "LegendSize=11\n",
    "NumberSize=12\n",
    "LabelSize=8 # etiquetas de los nodos\n",
    "NodeSize=50 # tamaño de los nodos"
   ]
  },
  {
   "cell_type": "markdown",
   "metadata": {},
   "source": [
    "Definición de función de lectura de las tablas:"
   ]
  },
  {
   "cell_type": "code",
   "execution_count": 4,
   "metadata": {},
   "outputs": [
    {
     "data": {
      "text/plain": [
       "'\\ndef ldata(archivo):\\n\\n    f=open(archivo)\\n    data=[]\\n    for line in f:\\n        line=line.strip()\\n        col=line.split()\\n        data.append(col)\\n    return data\\n'"
      ]
     },
     "execution_count": 4,
     "metadata": {},
     "output_type": "execute_result"
    }
   ],
   "source": [
    "'''\n",
    "def ldata(archivo):\n",
    "\n",
    "    f=open(archivo)\n",
    "    data=[]\n",
    "    for line in f:\n",
    "        line=line.strip()\n",
    "        col=line.split()\n",
    "        data.append(col)\n",
    "    return data\n",
    "'''"
   ]
  },
  {
   "cell_type": "markdown",
   "metadata": {},
   "source": [
    "## Introducción sobre la relación entre centralidad y letalidad en redes de proteínas\n",
    "\n",
    "En el análisis de grafos, el concepto de *centralidad* consiste en la determinar qué nodos resultan más importantes para la red. Existen diferentes maneras de establecer qué nodos son importantes en una red, y la utilización de cada una dependerá del problema que se esté modelando. [1]\n",
    "\n",
    "La manera más simple de establecer esta magnitud es la **centralidad de grado**, que consiste en determinar la centralidad en la red a partir del grado de los nodos. En las redes dirigidas puede incluso ser separada en una medida de entrada (*in-degree*) y una de salida (*out-degree*), dos magnitudes que pueden resultar útiles en las circunstancias apropiadas.\n",
    "\n",
    "Una extensión natural de la centralidad de grado es la **centralidad de autovalor**. En este caso, la importancia de los nodos está dada por sus vecinos, pero teniendo en cuenta a su vez la importancia de cada uno de estos. De este modo, no todos los vecinos de un nodo son equivalentes, y la importancia de un nodo aumenta si tiene conexiones con nodos que son importantes en sí mismos. Por lo tanto, la centralidad de autovalor proporciona a un nodo una importancia que equivale a la suma de las importancias de sus vecinos.La idea es entonces hacer una estimación inicial para la centralidad $x_{i}$ de cada nodo $i$, como puede ser, por ejemplo: $x_{i}=1$. A partir de estos valores iniciales es posible entonces realizar estimaciones de manera iterativa de modo de asignarle a la centralidad $x_{i}$, la suma de las centralidades de sus vecinos del nodo $i$:\n",
    "\n",
    "$x' = \\sum_{j} A_{ij} x_{j}$\n",
    "\n",
    "donde $A_{ij}$ es un elemento de la matriz de adyacencia. Escrito de manera matricial, se tiene: $x' = Ax$, lo que significa que $x$ converge a un autovalor de la matriz de adyacencia.\n",
    "\n",
    "La centralidad de autovalor puede ser calculada tanto para redes dirigidas como para no dirigidas. Sin embargo, para el caso de las redes dirigidas, existe la posibilidad de que el método detallado antes no funcione correctamente. Uno de los inconvenientes que surgen con esta definición de centralidad para redes dirigidas ocurre cuando un nodo únicamente se conecta con otros mediante enlaces salientes. Este vértice tendrá entonces centralidad nula, lo que puede propagarse a los nodos apuntados por el primero, si estos otros solo son apuntados por nodos con centralidad nula. Este fenómeno puede ocurrir entonces nuevamente y propagarse por la red, lo que dará como resultado una centralidad nula para todos los nodos.\n",
    "\n",
    "Una solución posible a los problemas que ocurren con la definición anterior es utilizar la **centralidad de Katz**. La manera de calcular esta magnitud es igual a la utilizada para la centralidad de autovalor, pero agregando un término pequeño $\\beta$. Puede pensarse a $\\beta$ como la asignación de una centralidad de manera *gratuita* (en el sentido de que este término no depende de la posición del nodo en la red) a la centralidad de autovalor:\n",
    "\n",
    "$x_{i} = \\alpha \\sum A_{ij} \\; x_{j} + \\beta$\n",
    "\n",
    "donde $\\alpha$ y $\\beta$ son constantes positivas. Puede verse entonces que esto previene el inconveniente que se daba para la centralidad de autovalor para gráficos dirigidos, ya que en este caso ya no se tienen nodos con centralidad nula.\n",
    "\n",
    "La centralidad de Katz también tiene una característica que puede resultar indeseada en algunos casos. Si un nodo con un alto grado de centralidad apunta a muchos otros nodos, todos estos reciben también un alto índice de centralidad, lo que en muchos casos no resulta apropiado (como es el caso de los motores de búsqueda). Una buena manera de evitar este problema es entonces mediante el uso de la **centralidad PageRank**, que consiste en una adaptación de la centralidad de Katz definida de la siguiente manera:\n",
    "\n",
    "$x_{i} = \\alpha \\sum A_{ij} \\dfrac{x_{j}}{k_{j}^{out}} + \\beta $\n",
    "\n",
    "De esta forma, la centralidad de un nodo con un alto grado de salida $k^{out}$ se ve *diluida* entre todos los nodos a los que apunta. En otras palabras, el hecho de que un nodo sea apuntado junto a muchos otros le quita parte de esta *importancia heredada*.\n",
    "\n",
    "Relacionada con las últimas definiciones de centralidad, en que la importancia de un nodo está determinada por la importancia de los nodos que lo apuntan, aparecen los conceptos de **hub y autoridades**. Para algunas redes, puede ser importante determinar qué nodos apuntan a nodos relevantes (como por ejemplo, en el caso de redes de citas de artículos, en el que un artículo puede no contener demasiada información sobre un tema dado, pero puede indicar qué otros artículos contienen información valiosa sobre ese tema). En este sentido, se denominan **autoridades** a los nodos relevantes (artículos que contienen información útil, por ejemplo) y **hubs** a los nodos que apuntan a las autoridades.\n",
    "\n",
    "La centralidad de autoridad $x_{i}$ de un nodo puede ser definida de manera proporcional a la suma de las centralidades de *hub* $y_{j}$ de los nodos que lo apuntan:\n",
    "\n",
    "$x_{i} = \\alpha \\sum A_{ij} y_{j}$\n",
    "\n",
    "Asimismo, las centralidad de *hub* $y_{i}$ de un nodo puede definirse de manera proporcional a la suma de las centralidades de autoridad de los nodos a los que apunta: \n",
    "\n",
    "$y_{i} = \\beta \\sum A_{ji} x_{j}$\n",
    "\n",
    "Una manera completamente diferente de medir la centralidad de los nodos es la **centralidad de cercanía**, que mide la distancia que lo separa de los otros nodos de la red. Si $d_{ij}$ es la distancia mínima desde el nodo $i$ hasta el nodo $j$, la media de las distancias mínimas desde el nodo $i$ hasta los demás nodos es:\n",
    "\n",
    "$l_{i} = \\dfrac{1}{n} \\sum d_{ij}$\n",
    "\n",
    "Entonces, la centralidad de cercanía puede calcularse como:\n",
    "\n",
    "$C_{i} = \\dfrac{1}{l_{i}}$\n",
    "\n",
    "Otra manera de medir la centralidad, que tampoco está relacionada con las anteriores es la **centralidad de intermediación** de un nodo, que consiste establecer cuántos caminos mínimos entre otros dos nodos pasan por el nodo que se analiza. En este sentido, un nodo se vuelve relevante cuando comunica muchos otros nodos entre sí, tomando el camino óptimo entre ellos.\n",
    "\n",
    "Una variante de esta última definición es la **centralidad de intermediación de caminos al azar**, que en lugar de tener en cuenta únicamente los caminos mínimos, tiene en cuenta todos los caminos tomados de manera aleatoria que unan a ambos nodos.\n",
    "\n",
    "### Relación entre centralidad y letalidad:\n",
    "\n",
    "##### Abstract del paper de Zotenko:\n",
    "\n",
    "The centrality-lethality rule, which notes that high-degree nodes in a protein interaction network tend to correspond to\n",
    "proteins that are essential, suggests that the topological prominence of a protein in a protein interaction network may be a\n",
    "good predictor of its biological importance. Even though the correlation between degree and essentiality was confirmed by\n",
    "many independent studies, the reason for this correlation remains illusive. Several hypotheses about putative connections\n",
    "between essentiality of hubs and the topology of protein–protein interaction networks have been proposed, but as we\n",
    "demonstrate, these explanations are not supported by the properties of protein interaction networks. To identify the main\n",
    "topological determinant of essentiality and to provide a biological explanation for the connection between the network\n",
    "topology and essentiality, we performed a rigorous analysis of six variants of the genomewide protein interaction network\n",
    "for *Saccharomyces cerevisiae* obtained using different techniques. We demonstrated that the majority of hubs are essential\n",
    "due to their involvement in Essential Complex Biological Modules, a group of densely connected proteins with shared\n",
    "biological function that are enriched in essential proteins. Moreover, we rejected two previously proposed explanations for\n",
    "the centrality-lethality rule, one relating the essentiality of hubs to their role in the overall network connectivity and another\n",
    "relying on the recently published essential protein interactions model.\n",
    "\n",
    "\n",
    "\n",
    "\n",
    "#### Referencias:\n",
    "\n",
    "[1] Newman, M.E.J. 2010. Networks: An Introduction. Oxford, UK: Oxford University Press."
   ]
  },
  {
   "cell_type": "code",
   "execution_count": 5,
   "metadata": {},
   "outputs": [
    {
     "name": "stdout",
     "output_type": "stream",
     "text": [
      "['YAL001C  ', 'YAL003W  ', 'YAL025C  ', 'YAL032C  ', 'YAL033W  ', 'YAL034W-a', 'YAL035C-A', 'YAL038W  ', 'YAL041W  ', 'YAL043C  ', 'YAR007C  ', 'YAR008W  ', 'YAR019C  ', 'YBL004W  ', 'YBL014C  ', 'YBL018C  ', 'YBL020W  ', 'YBL023C  ', 'YBL026W  ', 'YBL030C  ', 'YBL034C  ', 'YBL035C  ', 'YBL040C  ', 'YBL041W  ', 'YBL050W  ', 'YBL073W  ', 'YBL074C  ', 'YBL076C  ', 'YBL077W  ', 'YBL084C  ', 'YBL092W  ', 'YBL097W  ', 'YBL105C  ', 'YBR002C  ', 'YBR004C  ', 'YBR011C  ', 'YBR029C  ', 'YBR038W  ', 'YBR049C  ', 'YBR055C  ', 'YBR060C  ', 'YBR070C  ', 'YBR079C  ', 'YBR080C  ', 'YBR087W  ', 'YBR087W  ', 'YBR088C  ', 'YBR089W  ', 'YBR091C  ', 'YBR102C  ', 'YBR109C  ', 'YBR110W  ', 'YBR123C  ', 'YBR124W  ', 'YBR135W  ', 'YBR136W  ', 'YBR140C  ', 'YBR142W  ', 'YBR143C  ', 'YBR152W  ', 'YBR153W  ', 'YBR154C  ', 'YBR155W  ', 'YBR160W  ', 'YBR167C  ', 'YBR190W  ', 'YBR192W  ', 'YBR193C  ', 'YBR196C  ', 'YBR198C  ', 'YBR202W  ', 'YBR211C  ', 'YBR233W-A', 'YBR234C  ', 'YBR236C  ', 'YBR237W  ', 'YBR243C  ', 'YBR247C  ', 'YBR252W  ', 'YBR253W  ', 'YBR254C  ', 'YBR256C  ', 'YBR257W  ', 'YBR265W  ', 'YCL003W  ', 'YCL004W  ', 'YCL017C  ', 'YCL031C  ', 'YCL031C  ', 'YCL043C  ', 'YCL052C  ', 'YCL053C  ', 'YCL054W  ', 'YCL059C  ', 'YCR012W  ', 'YCR012W  ', 'YCR013C  ', 'YCR013C  ', 'YCR035C  ', 'YCR052W  ', 'YCR054C  ', 'YCR057C  ', 'YCR072C  ', 'YCR093W  ', 'YDL003W  ', 'YDL004W  ', 'YDL007W  ', 'YDL008W  ', 'YDL014W  ', 'YDL015C  ', 'YDL016C  ', 'YDL017W  ', 'YDL028C  ', 'YDL029W  ', 'YDL030W  ', 'YDL031W  ', 'YDL043C  ', 'YDL045C  ', 'YDL055C  ', 'YDL058W  ', 'YDL060W  ', 'YDL064W  ', 'YDL084W  ', 'YDL087C  ', 'YDL092W  ', 'YDL097C  ', 'YDL098C  ', 'YDL102W  ', 'YDL103C  ', 'YDL105W  ', 'YDL108W  ', 'YDL111C  ', 'YDL120W  ', 'YDL126C  ', 'YDL132W  ', 'YDL139C  ', 'YDL140C  ', 'YDL141W  ', 'YDL143W  ', 'YDL145C  ', 'YDL147W  ', 'YDL148C  ', 'YDL150W  ', 'YDL152W  ', 'YDL153C  ', 'YDL163W  ', 'YDL164C  ', 'YDL165W  ', 'YDL166C  ', 'YDL193W  ', 'YDL195W  ', 'YDL196W  ', 'YDL205C  ', 'YDL207W  ', 'YDL208W  ', 'YDL209C  ', 'YDL212W  ', 'YDL217C  ', 'YDL220C  ', 'YDL221W  ', 'YDL235C  ', 'YDR002W  ', 'YDR013W  ', 'YDR016C  ', 'YDR021W  ', 'YDR023W  ', 'YDR037W  ', 'YDR041W  ', 'YDR044W  ', 'YDR045C  ', 'YDR047W  ', 'YDR050C  ', 'YDR050C  ', 'YDR052C  ', 'YDR053W  ', 'YDR054C  ', 'YDR060W  ', 'YDR062W  ', 'YDR064W  ', 'YDR081C  ', 'YDR082W  ', 'YDR086C  ', 'YDR087C  ', 'YDR088C  ', 'YDR091C  ', 'YDR113C  ', 'YDR118W  ', 'YDR141C  ', 'YDR145W  ', 'YDR160W  ', 'YDR164C  ', 'YDR166C  ', 'YDR167W  ', 'YDR168W  ', 'YDR170C  ', 'YDR172W  ', 'YDR177W  ', 'YDR180W  ', 'YDR182W  ', 'YDR187C  ', 'YDR188W  ', 'YDR189W  ', 'YDR190C  ', 'YDR196C  ', 'YDR201W  ', 'YDR208W  ', 'YDR211W  ', 'YDR212W  ', 'YDR224C  ', 'YDR224C  ', 'YDR228C  ', 'YDR232W  ', 'YDR235W  ', 'YDR236C  ', 'YDR238C  ', 'YDR240C  ', 'YDR243C  ', 'YDR246W  ', 'YDR267C  ', 'YDR280W  ', 'YDR288W  ', 'YDR292C  ', 'YDR299W  ', 'YDR301W  ', 'YDR302W  ', 'YDR303C  ', 'YDR308C  ', 'YDR311W  ', 'YDR320C-A', 'YDR324C  ', 'YDR325W  ', 'YDR327W  ', 'YDR328C  ', 'YDR331W  ', 'YDR339C  ', 'YDR341C  ', 'YDR353W  ', 'YDR355C  ', 'YDR356W  ', 'YDR361C  ', 'YDR362C  ', 'YDR365C  ', 'YDR367W  ', 'YDR373W  ', 'YDR376W  ', 'YDR381W  ', 'YDR390C  ', 'YDR394W  ', 'YDR396W  ', 'YDR397C  ', 'YDR398W  ', 'YDR404C  ', 'YDR407C  ', 'YDR412W  ', 'YDR413C  ', 'YDR416W  ', 'YDR427W  ', 'YDR427W  ', 'YDR429C  ', 'YDR434W  ', 'YDR437W  ', 'YDR449C  ', 'YDR454C  ', 'YDR460W  ', 'YDR464W  ', 'YDR468C  ', 'YDR472W  ', 'YDR473C  ', 'YDR478W  ', 'YDR487C  ', 'YDR489W  ', 'YDR498C  ', 'YDR499W  ', 'YDR510W  ', 'YDR526C  ', 'YDR527W  ', 'YDR531W  ', 'YEL002C  ', 'YEL019C  ', 'YEL026W  ', 'YEL032W  ', 'YEL034W  ', 'YEL035C  ', 'YEL055C  ', 'YEL058W  ', 'YER003C  ', 'YER006W  ', 'YER008C  ', 'YER009W  ', 'YER012W  ', 'YER013W  ', 'YER018C  ', 'YER021W  ', 'YER022W  ', 'YER023W  ', 'YER025W  ', 'YER029C  ', 'YER036C  ', 'YER038C  ', 'YER043C  ', 'YER048W-A', 'YER074W-A', 'YER082C  ', 'YER093C  ', 'YER094C  ', 'YER104W  ', 'YER112W  ', 'YER125W  ', 'YER126C  ', 'YER127W  ', 'YER133W  ', 'YER136W  ', 'YER146W  ', 'YER147C  ', 'YER148W  ', 'YER157W  ', 'YER159C  ', 'YER165W  ', 'YER168C  ', 'YER171W  ', 'YER172C  ', 'YFL002C  ', 'YFL005W  ', 'YFL008W  ', 'YFL009W  ', 'YFL017C  ', 'YFL018W-A', 'YFL022C  ', 'YFL024C  ', 'YFL029C  ', 'YFL035C  ', 'YFL035C-A', 'YFL037W  ', 'YFL038C  ', 'YFL039C  ', 'YFL045C  ', 'YFR002W  ', 'YFR003C  ', 'YFR004W  ', 'YFR005C  ', 'YFR027W  ', 'YFR028C  ', 'YFR029W  ', 'YFR031C  ', 'YFR037C  ', 'YFR042W  ', 'YFR050C  ', 'YFR051C  ', 'YFR052W  ', 'YGL001C  ', 'YGL008C  ', 'YGL011C  ', 'YGL018C  ', 'YGL022W  ', 'YGL030W  ', 'YGL040C  ', 'YGL044C  ', 'YGL044C  ', 'YGL047W  ', 'YGL048C  ', 'YGL055W  ', 'YGL061C  ', 'YGL065C  ', 'YGL068W  ', 'YGL069C  ', 'YGL073W  ', 'YGL074C  ', 'YGL075C  ', 'YGL091C  ', 'YGL092W  ', 'YGL093W  ', 'YGL097W  ', 'YGL097W  ', 'YGL098W  ', 'YGL099W  ', 'YGL102C  ', 'YGL103W  ', 'YGL111W  ', 'YGL112C  ', 'YGL113W  ', 'YGL116W  ', 'YGL120C  ', 'YGL122C  ', 'YGL123W  ', 'YGL128C  ', 'YGL130W  ', 'YGL137W  ', 'YGL142C  ', 'YGL145W  ', 'YGL145W  ', 'YGL150C  ', 'YGL155W  ', 'YGL169W  ', 'YGL171W  ', 'YGL172W  ', 'YGL201C  ', 'YGL207W  ', 'YGL225W  ', 'YGL233W  ', 'YGL238W  ', 'YGL239C  ', 'YGL239C  ', 'YGL245W  ', 'YGL247W  ', 'YGR002C  ', 'YGR005C  ', 'YGR009C  ', 'YGR013W  ', 'YGR024C  ', 'YGR029W  ', 'YGR029W  ', 'YGR030C  ', 'YGR046W  ', 'YGR047C  ', 'YGR048W  ', 'YGR060W  ', 'YGR065C  ', 'YGR073C  ', 'YGR074W  ', 'YGR075C  ', 'YGR082W  ', 'YGR083C  ', 'YGR090W  ', 'YGR091W  ', 'YGR094W  ', 'YGR095C  ', 'YGR098C  ', 'YGR099W  ', 'YGR103W  ', 'YGR113W  ', 'YGR114C  ', 'YGR115C  ', 'YGR116W  ', 'YGR119C  ', 'YGR120C  ', 'YGR128C  ', 'YGR140W  ', 'YGR145W  ', 'YGR147C  ', 'YGR156W  ', 'YGR158C  ', 'YGR172C  ', 'YGR175C  ', 'YGR179C  ', 'YGR185C  ', 'YGR186W  ', 'YGR190C  ', 'YGR191W  ', 'YGR195W  ', 'YGR198W  ', 'YGR211W  ', 'YGR216C  ', 'YGR218W  ', 'YGR245C  ', 'YGR246C  ', 'YGR251W  ', 'YGR253C  ', 'YGR264C  ', 'YGR265W  ', 'YGR267C  ', 'YGR274C  ', 'YGR277C  ', 'YGR278W  ', 'YGR280C  ', 'YHL015W  ', 'YHR005C-A', 'YHR007C  ', 'YHR019C  ', 'YHR020W  ', 'YHR023W  ', 'YHR024C  ', 'YHR036W  ', 'YHR040W  ', 'YHR042W  ', 'YHR058C  ', 'YHR062C  ', 'YHR065C  ', 'YHR068W  ', 'YHR069C  ', 'YHR070W  ', 'YHR072W  ', 'YHR072W-A', 'YHR074W  ', 'YHR083W  ', 'YHR085W  ', 'YHR088W  ', 'YHR088W  ', 'YHR089C  ', 'YHR101C  ', 'YHR102W  ', 'YHR107C  ', 'YHR118C  ', 'YHR122W  ', 'YHR128W  ', 'YHR143W-A', 'YHR148W  ', 'YHR164C  ', 'YHR165C  ', 'YHR166C  ', 'YHR169W  ', 'YHR170W  ', 'YHR172W  ', 'YHR186C  ', 'YHR188C  ', 'YHR188C  ', 'YHR190W  ', 'YHR196W  ', 'YHR197W  ', 'YHR197W  ', 'YHR199C-A', 'YIL003W  ', 'YIL004C  ', 'YIL019W  ', 'YIL021W  ', 'YIL022W  ', 'YIL026C  ', 'YIL031W  ', 'YIL046W  ', 'YIL048W  ', 'YIL051C  ', 'YIL061C  ', 'YIL062C  ', 'YIL063C  ', 'YIL068C  ', 'YIL075C  ', 'YIL078W  ', 'YIL083C  ', 'YIL091C  ', 'YIL104C  ', 'YIL106W  ', 'YIL106W  ', 'YIL109C  ', 'YIL115C  ', 'YIL118W  ', 'YIL126W  ', 'YIL129C  ', 'YIL142W  ', 'YIL143C  ', 'YIL144W  ', 'YIL147C  ', 'YIL150C  ', 'YIL171W  ', 'YIR006C  ', 'YIR008C  ', 'YIR010W  ', 'YIR011C  ', 'YIR012W  ', 'YIR015W  ', 'YIR022W  ', 'YJL001W  ', 'YJL002C  ', 'YJL005W  ', 'YJL008C  ', 'YJL008C  ', 'YJL009W  ', 'YJL010C  ', 'YJL011C  ', 'YJL014W  ', 'YJL015C  ', 'YJL018W  ', 'YJL019W  ', 'YJL025W  ', 'YJL026W  ', 'YJL031C  ', 'YJL032W  ', 'YJL033W  ', 'YJL034W  ', 'YJL035C  ', 'YJL039C  ', 'YJL041W  ', 'YJL050W  ', 'YJL054W  ', 'YJL061W  ', 'YJL069C  ', 'YJL072C  ', 'YJL074C  ', 'YJL076W  ', 'YJL081C  ', 'YJL085W  ', 'YJL086C  ', 'YJL087C  ', 'YJL090C  ', 'YJL091C  ', 'YJL097W  ', 'YJL104W  ', 'YJL109C  ', 'YJL111W  ', 'YJL125C  ', 'YJL143W  ', 'YJL156C  ', 'YJL167W  ', 'YJL173C  ', 'YJL174W  ', 'YJL194W  ', 'YJL195C  ', 'YJL195C  ', 'YJL202C  ', 'YJL202C  ', 'YJL203W  ', 'YJR002W  ', 'YJR006W  ', 'YJR007W  ', 'YJR012C  ', 'YJR013W  ', 'YJR016C  ', 'YJR017C  ', 'YJR022W  ', 'YJR023C  ', 'YJR041C  ', 'YJR042W  ', 'YJR045C  ', 'YJR046W  ', 'YJR046W  ', 'YJR057W  ', 'YJR064W  ', 'YJR065C  ', 'YJR067C  ', 'YJR068W  ', 'YJR072C  ', 'YJR076C  ', 'YJR089W  ', 'YJR093C  ', 'YJR112W  ', 'YJR123W  ', 'YJR141W  ', 'YKL004W  ', 'YKL006C-A', 'YKL012W  ', 'YKL013C  ', 'YKL014C  ', 'YKL018W  ', 'YKL019W  ', 'YKL021C  ', 'YKL022C  ', 'YKL024C  ', 'YKL028W  ', 'YKL033W  ', 'YKL035W  ', 'YKL036C  ', 'YKL042W  ', 'YKL045W  ', 'YKL049C  ', 'YKL049C  ', 'YKL052C  ', 'YKL058W  ', 'YKL059C  ', 'YKL060C  ', 'YKL078W  ', 'YKL082C  ', 'YKL083W  ', 'YKL088W  ', 'YKL089W  ', 'YKL095W  ', 'YKL099C  ', 'YKL104C  ', 'YKL108W  ', 'YKL111C  ', 'YKL112W  ', 'YKL122C  ', 'YKL125W  ', 'YKL138C-A', 'YKL141W  ', 'YKL144C  ', 'YKL145W  ', 'YKL152C  ', 'YKL153W  ', 'YKL154W  ', 'YKL165C  ', 'YKL172W  ', 'YKL172W  ', 'YKL173W  ', 'YKL180W  ', 'YKL182W  ', 'YKL186C  ', 'YKL189W  ', 'YKL192C  ', 'YKL193C  ', 'YKL195W  ', 'YKL196C  ', 'YKL203C  ', 'YKL210W  ', 'YKR002W  ', 'YKR004C  ', 'YKR008W  ', 'YKR022C  ', 'YKR025W  ', 'YKR037C  ', 'YKR038C  ', 'YKR062W  ', 'YKR063C  ', 'YKR068C  ', 'YKR071C  ', 'YKR079C  ', 'YKR081C  ', 'YKR083C  ', 'YKR086W  ', 'YLL003W  ', 'YLL004W  ', 'YLL008W  ', 'YLL011W  ', 'YLL018C  ', 'YLL031C  ', 'YLL034C  ', 'YLL035W  ', 'YLL036C  ', 'YLL037W  ', 'YLL050C  ', 'YLR002C  ', 'YLR005W  ', 'YLR007W  ', 'YLR008C  ', 'YLR009W  ', 'YLR010C  ', 'YLR022C  ', 'YLR026C  ', 'YLR029C  ', 'YLR033W  ', 'YLR045C  ', 'YLR051C  ', 'YLR060W  ', 'YLR066W  ', 'YLR071C  ', 'YLR075W  ', 'YLR076C  ', 'YLR078C  ', 'YLR086W  ', 'YLR088W  ', 'YLR099W-A', 'YLR100W  ', 'YLR101C  ', 'YLR103C  ', 'YLR105C  ', 'YLR106C  ', 'YLR115W  ', 'YLR116W  ', 'YLR117C  ', 'YLR127C  ', 'YLR129W  ', 'YLR132C  ', 'YLR140W  ', 'YLR141W  ', 'YLR145W  ', 'YLR147C  ', 'YLR153C  ', 'YLR163C  ', 'YLR166C  ', 'YLR167W  ', 'YLR175W  ', 'YLR186W  ', 'YLR186W  ', 'YLR195C  ', 'YLR196W  ', 'YLR197W  ', 'YLR198C  ', 'YLR208W  ', 'YLR212C  ', 'YLR215C  ', 'YLR222C  ', 'YLR223C  ', 'YLR229C  ', 'YLR230W  ', 'YLR243W  ', 'YLR249W  ', 'YLR259C  ', 'YLR272C  ', 'YLR274W  ', 'YLR275W  ', 'YLR276C  ', 'YLR277C  ', 'YLR291C  ', 'YLR293C  ', 'YLR298C  ', 'YLR305C  ', 'YLR310C  ', 'YLR314C  ', 'YLR316C  ', 'YLR316C  ', 'YLR317W  ', 'YLR321C  ', 'YLR323C  ', 'YLR336C  ', 'YLR339C  ', 'YLR340W  ', 'YLR347C  ', 'YLR355C  ', 'YLR359W  ', 'YLR378C  ', 'YLR379W  ', 'YLR383W  ', 'YLR397C  ', 'YLR409C  ', 'YLR424W  ', 'YLR430W  ', 'YLR438C-A', 'YLR440C  ', 'YLR457C  ', 'YLR458W  ', 'YLR459W  ', 'YML010W  ', 'YML015C  ', 'YML015C  ', 'YML023C  ', 'YML023C  ', 'YML025C  ', 'YML031W  ', 'YML043C  ', 'YML046W  ', 'YML049C  ', 'YML064C  ', 'YML065W  ', 'YML069W  ', 'YML077W  ', 'YML085C  ', 'YML091C  ', 'YML092C  ', 'YML092C  ', 'YML093W  ', 'YML098W  ', 'YML105C  ', 'YML114C  ', 'YML125C  ', 'YML126C  ', 'YML127W  ', 'YML130C  ', 'YMR001C  ', 'YMR005W  ', 'YMR005W  ', 'YMR013C  ', 'YMR028W  ', 'YMR033W  ', 'YMR033W  ', 'YMR043W  ', 'YMR047C  ', 'YMR047C  ', 'YMR049C  ', 'YMR059W  ', 'YMR059W  ', 'YMR061W  ', 'YMR076C  ', 'YMR079W  ', 'YMR093W  ', 'YMR094W  ', 'YMR108W  ', 'YMR108W  ', 'YMR112C  ', 'YMR113W  ', 'YMR117C  ', 'YMR128W  ', 'YMR131C  ', 'YMR134W  ', 'YMR146C  ', 'YMR149W  ', 'YMR168C  ', 'YMR197C  ', 'YMR200W  ', 'YMR203W  ', 'YMR208W  ', 'YMR211W  ', 'YMR213W  ', 'YMR218C  ', 'YMR220W  ', 'YMR227C  ', 'YMR229C  ', 'YMR235C  ', 'YMR236W  ', 'YMR239C  ', 'YMR240C  ', 'YMR260C  ', 'YMR268C  ', 'YMR270C  ', 'YMR277W  ', 'YMR281W  ', 'YMR288W  ', 'YMR290C  ', 'YMR290W-A', 'YMR296C  ', 'YMR298W  ', 'YMR301C  ', 'YMR308C  ', 'YMR309C  ', 'YMR314W  ', 'YNL002C  ', 'YNL006W  ', 'YNL007C  ', 'YNL024C-A', 'YNL026W  ', 'YNL036W  ', 'YNL038W  ', 'YNL039W  ', 'YNL061W  ', 'YNL062C  ', 'YNL075W  ', 'YNL088W  ', 'YNL102W  ', 'YNL103W  ', 'YNL110C  ', 'YNL112W  ', 'YNL112W  ', 'YNL113W  ', 'YNL114C  ', 'YNL118C  ', 'YNL124W  ', 'YNL126W  ', 'YNL126W  ', 'YNL131W  ', 'YNL132W  ', 'YNL137C  ', 'YNL138W-A', 'YNL149C  ', 'YNL150W  ', 'YNL151C  ', 'YNL152W  ', 'YNL158W  ', 'YNL161W  ', 'YNL163C  ', 'YNL172W  ', 'YNL178W  ', 'YNL181W  ', 'YNL182C  ', 'YNL188W  ', 'YNL189W  ', 'YNL207W  ', 'YNL216W  ', 'YNL221C  ', 'YNL222W  ', 'YNL232W  ', 'YNL240C  ', 'YNL244C  ', 'YNL245C  ', 'YNL247W  ', 'YNL251C  ', 'YNL256W  ', 'YNL258C  ', 'YNL260C  ', 'YNL261W  ', 'YNL262W  ', 'YNL263C  ', 'YNL267W  ', 'YNL272C  ', 'YNL282W  ', 'YNL287W  ', 'YNL290W  ', 'YNL306W  ', 'YNL308C  ', 'YNL310C  ', 'YNL312W  ', 'YNL313C  ', 'YNL317W  ', 'YNR003C  ', 'YNR011C  ', 'YNR016C  ', 'YNR017W  ', 'YNR026C  ', 'YNR035C  ', 'YNR038W  ', 'YNR043W  ', 'YNR046W  ', 'YNR053C  ', 'YNR054C  ', 'YOL005C  ', 'YOL010W  ', 'YOL021C  ', 'YOL022C  ', 'YOL026C  ', 'YOL034W  ', 'YOL038W  ', 'YOL040C  ', 'YOL066C  ', 'YOL069W  ', 'YOL077C  ', 'YOL078W  ', 'YOL094C  ', 'YOL097C  ', 'YOL102C  ', 'YOL120C  ', 'YOL123W  ', 'YOL127W  ', 'YOL130W  ', 'YOL133W  ', 'YOL134C  ', 'YOL135C  ', 'YOL139C  ', 'YOL142W  ', 'YOL144W  ', 'YOL146W  ', 'YOL149W  ', 'YOR004W  ', 'YOR020C  ', 'YOR046C  ', 'YOR048C  ', 'YOR056C  ', 'YOR057W  ', 'YOR060C  ', 'YOR063W  ', 'YOR074C  ', 'YOR075W  ', 'YOR077W  ', 'YOR095C  ', 'YOR098C  ', 'YOR102W  ', 'YOR103C  ', 'YOR110W  ', 'YOR116C  ', 'YOR117W  ', 'YOR119C  ', 'YOR122C  ', 'YOR143C  ', 'YOR145C  ', 'YOR146W  ', 'YOR148C  ', 'YOR149C  ', 'YOR151C  ', 'YOR157C  ', 'YOR159C  ', 'YOR160W  ', 'YOR168W  ', 'YOR169C  ', 'YOR174W  ', 'YOR176W  ', 'YOR181W  ', 'YOR194C  ', 'YOR203W  ', 'YOR204W  ', 'YOR206W  ', 'YOR207C  ', 'YOR210W  ', 'YOR217W  ', 'YOR218C  ', 'YOR224C  ', 'YOR232W  ', 'YOR236W  ', 'YOR244W  ', 'YOR249C  ', 'YOR250C  ', 'YOR254C  ', 'YOR256C  ', 'YOR257W  ', 'YOR259C  ', 'YOR260W  ', 'YOR261C  ', 'YOR262W  ', 'YOR272W  ', 'YOR278W  ', 'YOR281C  ', 'YOR282W  ', 'YOR287C  ', 'YOR294W  ', 'YOR310C  ', 'YOR319W  ', 'YOR326W  ', 'YOR329C  ', 'YOR335C  ', 'YOR336W  ', 'YOR340C  ', 'YOR341W  ', 'YOR353C  ', 'YOR361C  ', 'YOR362C  ', 'YOR370C  ', 'YOR372C  ', 'YOR373W  ', 'YPL007C  ', 'YPL010W  ', 'YPL011C  ', 'YPL012W  ', 'YPL016W  ', 'YPL020C  ', 'YPL028W  ', 'YPL043W  ', 'YPL044C  ', 'YPL063W  ', 'YPL076W  ', 'YPL082C  ', 'YPL083C  ', 'YPL085W  ', 'YPL093W  ', 'YPL094C  ', 'YPL117C  ', 'YPL122C  ', 'YPL124W  ', 'YPL126W  ', 'YPL128C  ', 'YPL131W  ', 'YPL142C  ', 'YPL143W  ', 'YPL146C  ', 'YPL151C  ', 'YPL153C  ', 'YPL160W  ', 'YPL169C  ', 'YPL175W  ', 'YPL190C  ', 'YPL204W  ', 'YPL209C  ', 'YPL210C  ', 'YPL211W  ', 'YPL217C  ', 'YPL218W  ', 'YPL228W  ', 'YPL231W  ', 'YPL233W  ', 'YPL235W  ', 'YPL237W  ', 'YPL238C  ', 'YPL242C  ', 'YPL243W  ', 'YPL251W  ', 'YPL252C  ', 'YPL255W  ', 'YPL266W  ', 'YPR010C  ', 'YPR016C  ', 'YPR019W  ', 'YPR025C  ', 'YPR033C  ', 'YPR034W  ', 'YPR035W  ', 'YPR041W  ', 'YPR048W  ', 'YPR055W  ', 'YPR056W  ', 'YPR082C  ', 'YPR085C  ', 'YPR086W  ', 'YPR088C  ', 'YPR094W  ', 'YPR103W  ', 'YPR104C  ', 'YPR105C  ', 'YPR107C  ', 'YPR108W  ', 'YPR110C  ', 'YPR112C  ', 'YPR113W  ', 'YPR133C  ', 'YPR136C  ', 'YPR137W  ', 'YPR142C  ', 'YPR143W  ', 'YPR144C  ', 'YPR161C  ', 'YPR162C  ', 'YPR165W  ', 'YPR168W  ', 'YPR169W  ', 'YPR175W  ', 'YPR176C  ', 'YPR177C  ', 'YPR178W  ', 'YPR180W  ', 'YPR181C  ', 'YPR182W  ', 'YPR183W  ', 'YPR186C  ', 'YPR187W  ', 'YPR190C  ']\n",
      "['YAL001C', 'YAL003W', 'YAL025C', 'YAL032C', 'YAL033W', 'YAL034W-a', 'YAL035C-A', 'YAL038W', 'YAL041W', 'YAL043C', 'YAR007C', 'YAR008W', 'YAR019C', 'YBL004W', 'YBL014C', 'YBL018C', 'YBL020W', 'YBL023C', 'YBL026W', 'YBL030C', 'YBL034C', 'YBL035C', 'YBL040C', 'YBL041W', 'YBL050W', 'YBL073W', 'YBL074C', 'YBL076C', 'YBL077W', 'YBL084C', 'YBL092W', 'YBL097W', 'YBL105C', 'YBR002C', 'YBR004C', 'YBR011C', 'YBR029C', 'YBR038W', 'YBR049C', 'YBR055C', 'YBR060C', 'YBR070C', 'YBR079C', 'YBR080C', 'YBR087W', 'YBR087W', 'YBR088C', 'YBR089W', 'YBR091C', 'YBR102C', 'YBR109C', 'YBR110W', 'YBR123C', 'YBR124W', 'YBR135W', 'YBR136W', 'YBR140C', 'YBR142W', 'YBR143C', 'YBR152W', 'YBR153W', 'YBR154C', 'YBR155W', 'YBR160W', 'YBR167C', 'YBR190W', 'YBR192W', 'YBR193C', 'YBR196C', 'YBR198C', 'YBR202W', 'YBR211C', 'YBR233W-A', 'YBR234C', 'YBR236C', 'YBR237W', 'YBR243C', 'YBR247C', 'YBR252W', 'YBR253W', 'YBR254C', 'YBR256C', 'YBR257W', 'YBR265W', 'YCL003W', 'YCL004W', 'YCL017C', 'YCL031C', 'YCL031C', 'YCL043C', 'YCL052C', 'YCL053C', 'YCL054W', 'YCL059C', 'YCR012W', 'YCR012W', 'YCR013C', 'YCR013C', 'YCR035C', 'YCR052W', 'YCR054C', 'YCR057C', 'YCR072C', 'YCR093W', 'YDL003W', 'YDL004W', 'YDL007W', 'YDL008W', 'YDL014W', 'YDL015C', 'YDL016C', 'YDL017W', 'YDL028C', 'YDL029W', 'YDL030W', 'YDL031W', 'YDL043C', 'YDL045C', 'YDL055C', 'YDL058W', 'YDL060W', 'YDL064W', 'YDL084W', 'YDL087C', 'YDL092W', 'YDL097C', 'YDL098C', 'YDL102W', 'YDL103C', 'YDL105W', 'YDL108W', 'YDL111C', 'YDL120W', 'YDL126C', 'YDL132W', 'YDL139C', 'YDL140C', 'YDL141W', 'YDL143W', 'YDL145C', 'YDL147W', 'YDL148C', 'YDL150W', 'YDL152W', 'YDL153C', 'YDL163W', 'YDL164C', 'YDL165W', 'YDL166C', 'YDL193W', 'YDL195W', 'YDL196W', 'YDL205C', 'YDL207W', 'YDL208W', 'YDL209C', 'YDL212W', 'YDL217C', 'YDL220C', 'YDL221W', 'YDL235C', 'YDR002W', 'YDR013W', 'YDR016C', 'YDR021W', 'YDR023W', 'YDR037W', 'YDR041W', 'YDR044W', 'YDR045C', 'YDR047W', 'YDR050C', 'YDR050C', 'YDR052C', 'YDR053W', 'YDR054C', 'YDR060W', 'YDR062W', 'YDR064W', 'YDR081C', 'YDR082W', 'YDR086C', 'YDR087C', 'YDR088C', 'YDR091C', 'YDR113C', 'YDR118W', 'YDR141C', 'YDR145W', 'YDR160W', 'YDR164C', 'YDR166C', 'YDR167W', 'YDR168W', 'YDR170C', 'YDR172W', 'YDR177W', 'YDR180W', 'YDR182W', 'YDR187C', 'YDR188W', 'YDR189W', 'YDR190C', 'YDR196C', 'YDR201W', 'YDR208W', 'YDR211W', 'YDR212W', 'YDR224C', 'YDR224C', 'YDR228C', 'YDR232W', 'YDR235W', 'YDR236C', 'YDR238C', 'YDR240C', 'YDR243C', 'YDR246W', 'YDR267C', 'YDR280W', 'YDR288W', 'YDR292C', 'YDR299W', 'YDR301W', 'YDR302W', 'YDR303C', 'YDR308C', 'YDR311W', 'YDR320C-A', 'YDR324C', 'YDR325W', 'YDR327W', 'YDR328C', 'YDR331W', 'YDR339C', 'YDR341C', 'YDR353W', 'YDR355C', 'YDR356W', 'YDR361C', 'YDR362C', 'YDR365C', 'YDR367W', 'YDR373W', 'YDR376W', 'YDR381W', 'YDR390C', 'YDR394W', 'YDR396W', 'YDR397C', 'YDR398W', 'YDR404C', 'YDR407C', 'YDR412W', 'YDR413C', 'YDR416W', 'YDR427W', 'YDR427W', 'YDR429C', 'YDR434W', 'YDR437W', 'YDR449C', 'YDR454C', 'YDR460W', 'YDR464W', 'YDR468C', 'YDR472W', 'YDR473C', 'YDR478W', 'YDR487C', 'YDR489W', 'YDR498C', 'YDR499W', 'YDR510W', 'YDR526C', 'YDR527W', 'YDR531W', 'YEL002C', 'YEL019C', 'YEL026W', 'YEL032W', 'YEL034W', 'YEL035C', 'YEL055C', 'YEL058W', 'YER003C', 'YER006W', 'YER008C', 'YER009W', 'YER012W', 'YER013W', 'YER018C', 'YER021W', 'YER022W', 'YER023W', 'YER025W', 'YER029C', 'YER036C', 'YER038C', 'YER043C', 'YER048W-A', 'YER074W-A', 'YER082C', 'YER093C', 'YER094C', 'YER104W', 'YER112W', 'YER125W', 'YER126C', 'YER127W', 'YER133W', 'YER136W', 'YER146W', 'YER147C', 'YER148W', 'YER157W', 'YER159C', 'YER165W', 'YER168C', 'YER171W', 'YER172C', 'YFL002C', 'YFL005W', 'YFL008W', 'YFL009W', 'YFL017C', 'YFL018W-A', 'YFL022C', 'YFL024C', 'YFL029C', 'YFL035C', 'YFL035C-A', 'YFL037W', 'YFL038C', 'YFL039C', 'YFL045C', 'YFR002W', 'YFR003C', 'YFR004W', 'YFR005C', 'YFR027W', 'YFR028C', 'YFR029W', 'YFR031C', 'YFR037C', 'YFR042W', 'YFR050C', 'YFR051C', 'YFR052W', 'YGL001C', 'YGL008C', 'YGL011C', 'YGL018C', 'YGL022W', 'YGL030W', 'YGL040C', 'YGL044C', 'YGL044C', 'YGL047W', 'YGL048C', 'YGL055W', 'YGL061C', 'YGL065C', 'YGL068W', 'YGL069C', 'YGL073W', 'YGL074C', 'YGL075C', 'YGL091C', 'YGL092W', 'YGL093W', 'YGL097W', 'YGL097W', 'YGL098W', 'YGL099W', 'YGL102C', 'YGL103W', 'YGL111W', 'YGL112C', 'YGL113W', 'YGL116W', 'YGL120C', 'YGL122C', 'YGL123W', 'YGL128C', 'YGL130W', 'YGL137W', 'YGL142C', 'YGL145W', 'YGL145W', 'YGL150C', 'YGL155W', 'YGL169W', 'YGL171W', 'YGL172W', 'YGL201C', 'YGL207W', 'YGL225W', 'YGL233W', 'YGL238W', 'YGL239C', 'YGL239C', 'YGL245W', 'YGL247W', 'YGR002C', 'YGR005C', 'YGR009C', 'YGR013W', 'YGR024C', 'YGR029W', 'YGR029W', 'YGR030C', 'YGR046W', 'YGR047C', 'YGR048W', 'YGR060W', 'YGR065C', 'YGR073C', 'YGR074W', 'YGR075C', 'YGR082W', 'YGR083C', 'YGR090W', 'YGR091W', 'YGR094W', 'YGR095C', 'YGR098C', 'YGR099W', 'YGR103W', 'YGR113W', 'YGR114C', 'YGR115C', 'YGR116W', 'YGR119C', 'YGR120C', 'YGR128C', 'YGR140W', 'YGR145W', 'YGR147C', 'YGR156W', 'YGR158C', 'YGR172C', 'YGR175C', 'YGR179C', 'YGR185C', 'YGR186W', 'YGR190C', 'YGR191W', 'YGR195W', 'YGR198W', 'YGR211W', 'YGR216C', 'YGR218W', 'YGR245C', 'YGR246C', 'YGR251W', 'YGR253C', 'YGR264C', 'YGR265W', 'YGR267C', 'YGR274C', 'YGR277C', 'YGR278W', 'YGR280C', 'YHL015W', 'YHR005C-A', 'YHR007C', 'YHR019C', 'YHR020W', 'YHR023W', 'YHR024C', 'YHR036W', 'YHR040W', 'YHR042W', 'YHR058C', 'YHR062C', 'YHR065C', 'YHR068W', 'YHR069C', 'YHR070W', 'YHR072W', 'YHR072W-A', 'YHR074W', 'YHR083W', 'YHR085W', 'YHR088W', 'YHR088W', 'YHR089C', 'YHR101C', 'YHR102W', 'YHR107C', 'YHR118C', 'YHR122W', 'YHR128W', 'YHR143W-A', 'YHR148W', 'YHR164C', 'YHR165C', 'YHR166C', 'YHR169W', 'YHR170W', 'YHR172W', 'YHR186C', 'YHR188C', 'YHR188C', 'YHR190W', 'YHR196W', 'YHR197W', 'YHR197W', 'YHR199C-A', 'YIL003W', 'YIL004C', 'YIL019W', 'YIL021W', 'YIL022W', 'YIL026C', 'YIL031W', 'YIL046W', 'YIL048W', 'YIL051C', 'YIL061C', 'YIL062C', 'YIL063C', 'YIL068C', 'YIL075C', 'YIL078W', 'YIL083C', 'YIL091C', 'YIL104C', 'YIL106W', 'YIL106W', 'YIL109C', 'YIL115C', 'YIL118W', 'YIL126W', 'YIL129C', 'YIL142W', 'YIL143C', 'YIL144W', 'YIL147C', 'YIL150C', 'YIL171W', 'YIR006C', 'YIR008C', 'YIR010W', 'YIR011C', 'YIR012W', 'YIR015W', 'YIR022W', 'YJL001W', 'YJL002C', 'YJL005W', 'YJL008C', 'YJL008C', 'YJL009W', 'YJL010C', 'YJL011C', 'YJL014W', 'YJL015C', 'YJL018W', 'YJL019W', 'YJL025W', 'YJL026W', 'YJL031C', 'YJL032W', 'YJL033W', 'YJL034W', 'YJL035C', 'YJL039C', 'YJL041W', 'YJL050W', 'YJL054W', 'YJL061W', 'YJL069C', 'YJL072C', 'YJL074C', 'YJL076W', 'YJL081C', 'YJL085W', 'YJL086C', 'YJL087C', 'YJL090C', 'YJL091C', 'YJL097W', 'YJL104W', 'YJL109C', 'YJL111W', 'YJL125C', 'YJL143W', 'YJL156C', 'YJL167W', 'YJL173C', 'YJL174W', 'YJL194W', 'YJL195C', 'YJL195C', 'YJL202C', 'YJL202C', 'YJL203W', 'YJR002W', 'YJR006W', 'YJR007W', 'YJR012C', 'YJR013W', 'YJR016C', 'YJR017C', 'YJR022W', 'YJR023C', 'YJR041C', 'YJR042W', 'YJR045C', 'YJR046W', 'YJR046W', 'YJR057W', 'YJR064W', 'YJR065C', 'YJR067C', 'YJR068W', 'YJR072C', 'YJR076C', 'YJR089W', 'YJR093C', 'YJR112W', 'YJR123W', 'YJR141W', 'YKL004W', 'YKL006C-A', 'YKL012W', 'YKL013C', 'YKL014C', 'YKL018W', 'YKL019W', 'YKL021C', 'YKL022C', 'YKL024C', 'YKL028W', 'YKL033W', 'YKL035W', 'YKL036C', 'YKL042W', 'YKL045W', 'YKL049C', 'YKL049C', 'YKL052C', 'YKL058W', 'YKL059C', 'YKL060C', 'YKL078W', 'YKL082C', 'YKL083W', 'YKL088W', 'YKL089W', 'YKL095W', 'YKL099C', 'YKL104C', 'YKL108W', 'YKL111C', 'YKL112W', 'YKL122C', 'YKL125W', 'YKL138C-A', 'YKL141W', 'YKL144C', 'YKL145W', 'YKL152C', 'YKL153W', 'YKL154W', 'YKL165C', 'YKL172W', 'YKL172W', 'YKL173W', 'YKL180W', 'YKL182W', 'YKL186C', 'YKL189W', 'YKL192C', 'YKL193C', 'YKL195W', 'YKL196C', 'YKL203C', 'YKL210W', 'YKR002W', 'YKR004C', 'YKR008W', 'YKR022C', 'YKR025W', 'YKR037C', 'YKR038C', 'YKR062W', 'YKR063C', 'YKR068C', 'YKR071C', 'YKR079C', 'YKR081C', 'YKR083C', 'YKR086W', 'YLL003W', 'YLL004W', 'YLL008W', 'YLL011W', 'YLL018C', 'YLL031C', 'YLL034C', 'YLL035W', 'YLL036C', 'YLL037W', 'YLL050C', 'YLR002C', 'YLR005W', 'YLR007W', 'YLR008C', 'YLR009W', 'YLR010C', 'YLR022C', 'YLR026C', 'YLR029C', 'YLR033W', 'YLR045C', 'YLR051C', 'YLR060W', 'YLR066W', 'YLR071C', 'YLR075W', 'YLR076C', 'YLR078C', 'YLR086W', 'YLR088W', 'YLR099W-A', 'YLR100W', 'YLR101C', 'YLR103C', 'YLR105C', 'YLR106C', 'YLR115W', 'YLR116W', 'YLR117C', 'YLR127C', 'YLR129W', 'YLR132C', 'YLR140W', 'YLR141W', 'YLR145W', 'YLR147C', 'YLR153C', 'YLR163C', 'YLR166C', 'YLR167W', 'YLR175W', 'YLR186W', 'YLR186W', 'YLR195C', 'YLR196W', 'YLR197W', 'YLR198C', 'YLR208W', 'YLR212C', 'YLR215C', 'YLR222C', 'YLR223C', 'YLR229C', 'YLR230W', 'YLR243W', 'YLR249W', 'YLR259C', 'YLR272C', 'YLR274W', 'YLR275W', 'YLR276C', 'YLR277C', 'YLR291C', 'YLR293C', 'YLR298C', 'YLR305C', 'YLR310C', 'YLR314C', 'YLR316C', 'YLR316C', 'YLR317W', 'YLR321C', 'YLR323C', 'YLR336C', 'YLR339C', 'YLR340W', 'YLR347C', 'YLR355C', 'YLR359W', 'YLR378C', 'YLR379W', 'YLR383W', 'YLR397C', 'YLR409C', 'YLR424W', 'YLR430W', 'YLR438C-A', 'YLR440C', 'YLR457C', 'YLR458W', 'YLR459W', 'YML010W', 'YML015C', 'YML015C', 'YML023C', 'YML023C', 'YML025C', 'YML031W', 'YML043C', 'YML046W', 'YML049C', 'YML064C', 'YML065W', 'YML069W', 'YML077W', 'YML085C', 'YML091C', 'YML092C', 'YML092C', 'YML093W', 'YML098W', 'YML105C', 'YML114C', 'YML125C', 'YML126C', 'YML127W', 'YML130C', 'YMR001C', 'YMR005W', 'YMR005W', 'YMR013C', 'YMR028W', 'YMR033W', 'YMR033W', 'YMR043W', 'YMR047C', 'YMR047C', 'YMR049C', 'YMR059W', 'YMR059W', 'YMR061W', 'YMR076C', 'YMR079W', 'YMR093W', 'YMR094W', 'YMR108W', 'YMR108W', 'YMR112C', 'YMR113W', 'YMR117C', 'YMR128W', 'YMR131C', 'YMR134W', 'YMR146C', 'YMR149W', 'YMR168C', 'YMR197C', 'YMR200W', 'YMR203W', 'YMR208W', 'YMR211W', 'YMR213W', 'YMR218C', 'YMR220W', 'YMR227C', 'YMR229C', 'YMR235C', 'YMR236W', 'YMR239C', 'YMR240C', 'YMR260C', 'YMR268C', 'YMR270C', 'YMR277W', 'YMR281W', 'YMR288W', 'YMR290C', 'YMR290W-A', 'YMR296C', 'YMR298W', 'YMR301C', 'YMR308C', 'YMR309C', 'YMR314W', 'YNL002C', 'YNL006W', 'YNL007C', 'YNL024C-A', 'YNL026W', 'YNL036W', 'YNL038W', 'YNL039W', 'YNL061W', 'YNL062C', 'YNL075W', 'YNL088W', 'YNL102W', 'YNL103W', 'YNL110C', 'YNL112W', 'YNL112W', 'YNL113W', 'YNL114C', 'YNL118C', 'YNL124W', 'YNL126W', 'YNL126W', 'YNL131W', 'YNL132W', 'YNL137C', 'YNL138W-A', 'YNL149C', 'YNL150W', 'YNL151C', 'YNL152W', 'YNL158W', 'YNL161W', 'YNL163C', 'YNL172W', 'YNL178W', 'YNL181W', 'YNL182C', 'YNL188W', 'YNL189W', 'YNL207W', 'YNL216W', 'YNL221C', 'YNL222W', 'YNL232W', 'YNL240C', 'YNL244C', 'YNL245C', 'YNL247W', 'YNL251C', 'YNL256W', 'YNL258C', 'YNL260C', 'YNL261W', 'YNL262W', 'YNL263C', 'YNL267W', 'YNL272C', 'YNL282W', 'YNL287W', 'YNL290W', 'YNL306W', 'YNL308C', 'YNL310C', 'YNL312W', 'YNL313C', 'YNL317W', 'YNR003C', 'YNR011C', 'YNR016C', 'YNR017W', 'YNR026C', 'YNR035C', 'YNR038W', 'YNR043W', 'YNR046W', 'YNR053C', 'YNR054C', 'YOL005C', 'YOL010W', 'YOL021C', 'YOL022C', 'YOL026C', 'YOL034W', 'YOL038W', 'YOL040C', 'YOL066C', 'YOL069W', 'YOL077C', 'YOL078W', 'YOL094C', 'YOL097C', 'YOL102C', 'YOL120C', 'YOL123W', 'YOL127W', 'YOL130W', 'YOL133W', 'YOL134C', 'YOL135C', 'YOL139C', 'YOL142W', 'YOL144W', 'YOL146W', 'YOL149W', 'YOR004W', 'YOR020C', 'YOR046C', 'YOR048C', 'YOR056C', 'YOR057W', 'YOR060C', 'YOR063W', 'YOR074C', 'YOR075W', 'YOR077W', 'YOR095C', 'YOR098C', 'YOR102W', 'YOR103C', 'YOR110W', 'YOR116C', 'YOR117W', 'YOR119C', 'YOR122C', 'YOR143C', 'YOR145C', 'YOR146W', 'YOR148C', 'YOR149C', 'YOR151C', 'YOR157C', 'YOR159C', 'YOR160W', 'YOR168W', 'YOR169C', 'YOR174W', 'YOR176W', 'YOR181W', 'YOR194C', 'YOR203W', 'YOR204W', 'YOR206W', 'YOR207C', 'YOR210W', 'YOR217W', 'YOR218C', 'YOR224C', 'YOR232W', 'YOR236W', 'YOR244W', 'YOR249C', 'YOR250C', 'YOR254C', 'YOR256C', 'YOR257W', 'YOR259C', 'YOR260W', 'YOR261C', 'YOR262W', 'YOR272W', 'YOR278W', 'YOR281C', 'YOR282W', 'YOR287C', 'YOR294W', 'YOR310C', 'YOR319W', 'YOR326W', 'YOR329C', 'YOR335C', 'YOR336W', 'YOR340C', 'YOR341W', 'YOR353C', 'YOR361C', 'YOR362C', 'YOR370C', 'YOR372C', 'YOR373W', 'YPL007C', 'YPL010W', 'YPL011C', 'YPL012W', 'YPL016W', 'YPL020C', 'YPL028W', 'YPL043W', 'YPL044C', 'YPL063W', 'YPL076W', 'YPL082C', 'YPL083C', 'YPL085W', 'YPL093W', 'YPL094C', 'YPL117C', 'YPL122C', 'YPL124W', 'YPL126W', 'YPL128C', 'YPL131W', 'YPL142C', 'YPL143W', 'YPL146C', 'YPL151C', 'YPL153C', 'YPL160W', 'YPL169C', 'YPL175W', 'YPL190C', 'YPL204W', 'YPL209C', 'YPL210C', 'YPL211W', 'YPL217C', 'YPL218W', 'YPL228W', 'YPL231W', 'YPL233W', 'YPL235W', 'YPL237W', 'YPL238C', 'YPL242C', 'YPL243W', 'YPL251W', 'YPL252C', 'YPL255W', 'YPL266W', 'YPR010C', 'YPR016C', 'YPR019W', 'YPR025C', 'YPR033C', 'YPR034W', 'YPR035W', 'YPR041W', 'YPR048W', 'YPR055W', 'YPR056W', 'YPR082C', 'YPR085C', 'YPR086W', 'YPR088C', 'YPR094W', 'YPR103W', 'YPR104C', 'YPR105C', 'YPR107C', 'YPR108W', 'YPR110C', 'YPR112C', 'YPR113W', 'YPR133C', 'YPR136C', 'YPR137W', 'YPR142C', 'YPR143W', 'YPR144C', 'YPR161C', 'YPR162C', 'YPR165W', 'YPR168W', 'YPR169W', 'YPR175W', 'YPR176C', 'YPR177C', 'YPR178W', 'YPR180W', 'YPR181C', 'YPR182W', 'YPR183W', 'YPR186C', 'YPR187W', 'YPR190C']\n"
     ]
    }
   ],
   "source": [
    "redesStr = ['Y2H','AP-MS','LIT','LIT_Reguly']\n",
    "redes = {}\n",
    "\n",
    "for s in redesStr:\n",
    "    df = pd.read_csv(path + 'yeast_' + s + '.txt', sep = '\\t')\n",
    "    if s == 'LIT_Reguly':\n",
    "        net = df[['Bait gene/protein','Hit gene/protein']].values.tolist()\n",
    "    else:\n",
    "        net = df.values.tolist()\n",
    "    redes[s] = nx.Graph(net)\n",
    "\n",
    "df = pd.read_csv(path + 'Essential_ORFs_paperHe.txt', sep='\\t')\n",
    "esenciales = df['ORF_name'].values.tolist()\n",
    "\n",
    "#borramos el primer y los dos ultimos elementos de la lista esenciales\n",
    "del esenciales[0]\n",
    "del esenciales[len(esenciales)-1]\n",
    "del esenciales[len(esenciales)-1]\n",
    "\n",
    "print(esenciales)\n",
    "\n",
    "#sacamos los espacios al final de cada nombre de la lista\n",
    "essentials = []\n",
    "for item in range(len(esenciales)):\n",
    "    essentials.append(esenciales[item].strip())\n",
    "    \n",
    "print(essentials)"
   ]
  },
  {
   "cell_type": "markdown",
   "metadata": {},
   "source": []
  },
  {
   "cell_type": "code",
   "execution_count": null,
   "metadata": {},
   "outputs": [],
   "source": [
    "'''Tabla 1 de Zotenko et. al. (2008)'''\n",
    "\n",
    "dfB1 = pd.DataFrame()\n",
    "\n",
    "for s in redesStr:\n",
    "\tdfB1.loc[s,'Nodes'] = redes[s].number_of_nodes()\n",
    "\tdfB1.loc[s,'Edges'] = redes[s].number_of_edges()\n",
    "\tif len(redes[s]) == len(np.unique(redes[s],axis=0)):\n",
    "\t\tdfB1.loc[s,'Directionality'] = 'Prob-Undir'\n",
    "\telse:\n",
    "\t\tdfB1.loc[s,'Directionality'] = 'Dir'\n",
    "\tnetDeg = np.array(list(redes[s].degree()))\n",
    "\tnetDeg = netDeg[:,1]\n",
    "\tnetDeg = netDeg.astype(int)\n",
    "\tdfB1.loc[s,'DegMean'] = np.mean(netDeg)\n",
    "\tdfB1.loc[s,'DegMin'] = np.min(netDeg)\n",
    "\tdfB1.loc[s,'DegMax'] = np.max(netDeg)\n",
    "\tdfB1.loc[s,'DegDensity'] = nx.density(redes[s])\n",
    "\tdfB1.loc[s,'C_tri'] = nx.transitivity(redes[s])\n",
    "\tdfB1.loc[s,'C_avg'] = nx.average_clustering(redes[s])\n",
    "\tgiant = max(nx.connected_component_subgraphs(redes[s]), key=len)\n",
    "\tdfB1.loc[s,'Diameter (Giant Subgraph)'] = nx.diameter(giant)\n",
    "\n",
    "print(dfB1)"
   ]
  },
  {
   "cell_type": "code",
   "execution_count": 8,
   "metadata": {},
   "outputs": [
    {
     "name": "stdout",
     "output_type": "stream",
     "text": [
      "No hay enlaces repetidos para la red Y2H\n",
      "No hay enlaces repetidos para la red AP-MS\n",
      "No hay enlaces repetidos para la red LIT\n",
      "No hay enlaces repetidos para la red LIT_Reguly\n",
      "                 Y2H     AP-MS       LIT  LIT_Reguly\n",
      "Y2H         1.000000  0.088767  0.088426    0.163537\n",
      "AP-MS       0.028669  1.000000  0.142904    0.277759\n",
      "LIT         0.088577  0.443228  1.000000    0.977770\n",
      "LIT_Reguly  0.040395  0.212430  0.241103    1.000000\n"
     ]
    }
   ],
   "source": [
    "'''Tabla 2 de Zotenko et. al. (2008)'''\n",
    "\n",
    "#primero chequeo que las redes no tengan enlaces repetidos\n",
    "\n",
    "for s in redesStr:\n",
    "    if len(list(redes[s].edges()))==len(np.unique(list(redes[s].edges()), axis=0)):\n",
    "        print(\"No hay enlaces repetidos para la red \" + s)\n",
    "    else:\n",
    "        print(\"Hay enlaces repetidos para la red \" + s)\n",
    "\n",
    "#calculo la cantidad de enlaces de una red que estan tambien presentes en las restantes\n",
    "\n",
    "iter=list(itertools.combinations(range(len(redesStr)),2))\n",
    "\n",
    "def intersection(lst1, lst2): \n",
    "    return list(set(lst1) & set(lst2)) \n",
    "\n",
    "ratios = np.zeros((4, 4), float)\n",
    "np.fill_diagonal(ratios, 1)\n",
    "\n",
    "for (j,k) in iter:\n",
    "    red_j = redes[redesStr[j]].copy()\n",
    "    red_k = redes[redesStr[k]].copy()\n",
    "    \n",
    "    commonNodes = intersection(list(red_j), list(red_k))\n",
    "    red_j.remove_nodes_from(list(nodoi for nodoi in red_j if nodoi not in commonNodes))\n",
    "    red_k.remove_nodes_from(list(nodoi for nodoi in red_k if nodoi not in commonNodes))\n",
    "    \n",
    "    red_jk = nx.intersection(red_j,red_k)\n",
    "    commonEdges = red_jk.number_of_edges()\n",
    "    \n",
    "    ratios[j,k] = commonEdges/(redes[redesStr[j]].number_of_edges())\n",
    "    ratios[k,j] = commonEdges/(redes[redesStr[k]].number_of_edges())\n",
    "\n",
    "dfB2 = pd.DataFrame(ratios, columns=redesStr)\n",
    "dfB2.index = redesStr\n",
    "\n",
    "print(dfB2)"
   ]
  },
  {
   "cell_type": "code",
   "execution_count": null,
   "metadata": {},
   "outputs": [],
   "source": [
    "'''Figura 1.a de Zotenko et. al. (2008)'''\n",
    "\n",
    "percentiles = np.linspace(0,100,num=101)\n",
    "\n",
    "degree_sequence = {}\n",
    "degree_cutoff = {}\n",
    "ratio_hubs_essentials = {}\n",
    "\n",
    "for k in redesStr:\n",
    "    degree_sequence[k] = sorted([d for n, d in redes[k].degree()])\n",
    "    deg_cutoff = []\n",
    "    for i in range(len(percentiles)):\n",
    "        deg_cutoff.append(np.percentile(degree_sequence[k], i))\n",
    "    degree_cutoff[k] = deg_cutoff\n",
    "\n",
    "    ratio = []\n",
    "    for j in range(len(deg_cutoff)):\n",
    "        count_hubs = 0\n",
    "        count_hubs_essentials = 0\n",
    "        for nodoi in list(redes[k].nodes()):\n",
    "            if redes[k].degree(nodoi)>=deg_cutoff[j]:\n",
    "                count_hubs+=1\n",
    "                if nodoi in essentials:                                                                            \n",
    "                    count_hubs_essentials+=1\n",
    "        ratio.append(count_hubs_essentials/count_hubs)\n",
    "    ratio_hubs_essentials[k]= ratio\n",
    "\n",
    "\n",
    "x = []\n",
    "for i in range(len(percentiles)):\n",
    "    x.append(1 - percentiles[i]/100)\n",
    "\n",
    "\n",
    "plt.figure()\n",
    "for k in redesStr:\n",
    "    plt.plot(x, ratio_hubs_essentials[k], linewidth=3, label=k)\n",
    "plt.xticks(np.arange(0, 1.1, step=0.1))\n",
    "plt.yticks(np.arange(0, 1.1, step=0.1))\n",
    "plt.tick_params(axis='both', which='major', labelsize=NumberSize)\n",
    "plt.xlabel('Hub definition cutoff', fontsize=20)\n",
    "plt.ylabel('Fraction of essential nodes', fontsize=20)   \n",
    "plt.title('Figure 1A. Relationship between degree and essentiality in the tested networks', fontsize=30)\n",
    "plt.legend(loc='upper right', fontsize=20) \n",
    "plt.grid(axis='both', color='k', linestyle='dashed', linewidth=2, alpha=0.1)\n",
    "plt.show()"
   ]
  },
  {
   "cell_type": "code",
   "execution_count": null,
   "metadata": {},
   "outputs": [],
   "source": []
  },
  {
   "cell_type": "code",
   "execution_count": null,
   "metadata": {},
   "outputs": [],
   "source": []
  },
  {
   "cell_type": "code",
   "execution_count": null,
   "metadata": {},
   "outputs": [],
   "source": []
  },
  {
   "cell_type": "code",
   "execution_count": null,
   "metadata": {},
   "outputs": [],
   "source": []
  },
  {
   "cell_type": "code",
   "execution_count": null,
   "metadata": {},
   "outputs": [],
   "source": []
  },
  {
   "cell_type": "code",
   "execution_count": null,
   "metadata": {},
   "outputs": [],
   "source": []
  },
  {
   "cell_type": "code",
   "execution_count": null,
   "metadata": {},
   "outputs": [],
   "source": []
  },
  {
   "cell_type": "code",
   "execution_count": null,
   "metadata": {},
   "outputs": [],
   "source": []
  }
 ],
 "metadata": {
  "kernelspec": {
   "display_name": "Python 3",
   "language": "python",
   "name": "python3"
  },
  "language_info": {
   "codemirror_mode": {
    "name": "ipython",
    "version": 3
   },
   "file_extension": ".py",
   "mimetype": "text/x-python",
   "name": "python",
   "nbconvert_exporter": "python",
   "pygments_lexer": "ipython3",
   "version": "3.6.5"
  }
 },
 "nbformat": 4,
 "nbformat_minor": 2
}
