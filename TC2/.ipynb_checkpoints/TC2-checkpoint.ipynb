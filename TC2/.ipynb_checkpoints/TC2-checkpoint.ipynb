{
 "cells": [
  {
   "cell_type": "markdown",
   "metadata": {},
   "source": [
    "# Trabajo Computacional TC_02\n",
    "\n",
    "##### Heli Magali García Álvarez\n",
    "##### Santiago Scheiner\n",
    "##### Juan Ignacio Gossn"
   ]
  },
  {
   "cell_type": "markdown",
   "metadata": {},
   "source": [
    "# Objetivo principal\n",
    "## El objetivo es reproducir algunos de los análisis reportados en los trabajos de Zotenko et. al (2008) y He et al. (2006) para las cuatro redes de proteínas de levaduras de las cuales disponemos: Y2H, AP-MS, LIT y LIT-REGULY. La red LIT-REGULY, al igual que LIT es una red construida a partir de interacciones reportadas en la literatura. El trabajo a presentar no sólo deberá mostrar los resultados de estos análisis (tablas y gráficos), sino que también deberá ponerlos en su debido contexto y debatir sobre la naturaleza de los mismos, respetando la estructura usual de un artículo o informe (con, a lo sumo, 10 carillas). A continuación se propone un POSIBLE esquema para el informe:\n",
    "\n",
    "## A) Introducción\n",
    "#### Breve introducción sobre la relación entre centralidad y letalidad en redes de proteínas.\n",
    "\n",
    "## B) Características de las redes analizadas\n",
    "#### Se deben incluir los siguientes resultados:\n",
    "#### Tabla 1 de Zotenko et. al. (2008)\n",
    "#### Tabla 2 de Zotenko et. al. (2008)\n",
    "#### Figura 1.a de Zotenko et. al. (2008)\n",
    "\n",
    "## C) Análisis de vulnerabilidad\n",
    "#### Se deben incluir los siguientes resultados:\n",
    "#### Figura 3 de Zotenko et. al. (2008)\n",
    "#### Tabla 3 de Zotenko et. al. (2008)\n",
    "\n",
    "## D) Esencialidad: Módulos biológicos vs. Interacciónes Esenciales\n",
    "#### Se deben incluir los siguientes resultados:\n",
    "#### Figura 2.b de He et. al. (2006) - Para cada una de las redes obtener α y β.\n",
    "#### Tabla 5 de Zotenko et. al. (2008) - En Número esperado solo deben incluir el obtenido a partir del ajuste lineal.\n",
    "#### El esquema del informe puede modificarse como ustedes gusten, y pueden agregar cualquier tipo de análisis extra que consideren interesante, pero siempre manteniendo como mínimo los resultados aquí solicitados."
   ]
  },
  {
   "cell_type": "markdown",
   "metadata": {},
   "source": [
    "### Bloque de inicialización\n",
    "\n",
    "\n",
    "Importamos todos los modulos que necesitaremos para el trabajo:\n"
   ]
  },
  {
   "cell_type": "code",
   "execution_count": 2,
   "metadata": {},
   "outputs": [
    {
     "data": {
      "text/plain": [
       "'\\nfrom scipy import stats\\nfrom matplotlib import pylab\\nfrom sklearn.linear_model import LinearRegression\\nimport random\\nimport matplotlib.patches as mpatches\\nfrom statsmodels.stats.proportion import proportions_ztest\\nimport collections\\nimport igraph\\nimport itertools\\nfrom matplotlib_venn import venn3, venn3_circles\\n'"
      ]
     },
     "execution_count": 2,
     "metadata": {},
     "output_type": "execute_result"
    }
   ],
   "source": [
    "import networkx as nx\n",
    "import matplotlib.pyplot as plt\n",
    "import numpy as np\n",
    "import pandas as pd\n",
    "import scipy as sp\n",
    "'''\n",
    "from scipy import stats\n",
    "from matplotlib import pylab\n",
    "from sklearn.linear_model import LinearRegression\n",
    "import random\n",
    "import matplotlib.patches as mpatches\n",
    "from statsmodels.stats.proportion import proportions_ztest\n",
    "import collections\n",
    "import igraph\n",
    "import itertools\n",
    "from matplotlib_venn import venn3, venn3_circles\n",
    "'''"
   ]
  },
  {
   "cell_type": "markdown",
   "metadata": {},
   "source": [
    "### Selección de path según la máquina de trabajo:"
   ]
  },
  {
   "cell_type": "code",
   "execution_count": 3,
   "metadata": {},
   "outputs": [],
   "source": [
    "pathHeli = '/home/heli/Documents/Redes/Practicas/TC_02/'\n",
    "pathJuancho = '/home/gossn/Dropbox/Documents/Materias_doctorado/RedesComplejasBiologicos/tc02Data/'\n",
    "pathSanti = '/home/santiago/Documentos/RC/tc02Data/'\n",
    "pathDocente = '?'\n",
    "\n",
    "path = pathHeli"
   ]
  },
  {
   "cell_type": "markdown",
   "metadata": {},
   "source": [
    "Configuraciones para los gráficos:"
   ]
  },
  {
   "cell_type": "code",
   "execution_count": 4,
   "metadata": {},
   "outputs": [],
   "source": [
    "plt.close('all')\n",
    "plt.rc('text', usetex=True)\n",
    "plt.rc('font', family='serif')\n",
    "\n",
    "TitleSize=20\n",
    "AxisLabelSize=20\n",
    "LegendSize=11\n",
    "NumberSize=12\n",
    "LabelSize=8 # etiquetas de los nodos\n",
    "NodeSize=50 # tamaño de los nodos"
   ]
  },
  {
   "cell_type": "markdown",
   "metadata": {},
   "source": [
    "Definición de función de lectura de las tablas:"
   ]
  },
  {
   "cell_type": "code",
   "execution_count": 4,
   "metadata": {},
   "outputs": [
    {
     "data": {
      "text/plain": [
       "'\\ndef ldata(archivo):\\n\\n    f=open(archivo)\\n    data=[]\\n    for line in f:\\n        line=line.strip()\\n        col=line.split()\\n        data.append(col)\\n    return data\\n'"
      ]
     },
     "execution_count": 4,
     "metadata": {},
     "output_type": "execute_result"
    }
   ],
   "source": [
    "'''\n",
    "def ldata(archivo):\n",
    "\n",
    "    f=open(archivo)\n",
    "    data=[]\n",
    "    for line in f:\n",
    "        line=line.strip()\n",
    "        col=line.split()\n",
    "        data.append(col)\n",
    "    return data\n",
    "'''"
   ]
  },
  {
   "cell_type": "markdown",
   "metadata": {},
   "source": [
    "### Introducción sobre la relación entre centralidad y letalidad en redes de proteínas\n",
    "\n",
    "En el análisis de grafos, el concepto de **centralidad** consiste en la determinar qué nodos resultan más importantes para la red. Existen diferentes maneras de establecer qué nodos son importantes en una red, y cada definición dependerá del problema que se esté modelando. [1]\n",
    "\n",
    "La manera más simple de medir la centralidad en una red es a partir del grado de los nodos (*Degree centrality*), que en las redes dirigidas puede incluso ser separado en una medida de entrada (*in-degree*) y una de salida (*out-degree*), dos magnitudes que pueden resultar útiles en las circunstancias apropiadas.\n",
    "\n",
    "Una extensión natural de la centralidad de grado es la *centralidad de autovalor*. En este caso, la importancia de los nodos está dada por sus vecinos, pero teniendo en cuenta a su vez la importancia de cada uno de estos. De este modo, no todos los vecinos de un nodo son equivalentes, y la importancia de un nodo aumenta si tiene conexiones con nodos que son importantes en sí mismos. Por lo tanto, la centralidad de autovalor proporciona a un nodo una importancia que equivale a la suma de las importancias de sus vecinos.La idea es entonces hacer una estimación inicial para la centralidad $x_{i}$ de cada nodo $i$, como puede ser, por ejemplo: $x_{i}=1$. A partir de estos valores iniciales es posible entonces realizar estimaciones de manera iterativa de modo de asignarle a la centralidad $x_{i}$, la suma de las centralidades de sus vecinos del nodo $i$:\n",
    "\n",
    "$x' = \\sum_{j} A_{ij} x_{j}$\n",
    "\n",
    "donde $A_{ij}$ es un elemento de la matriz de adyacencia. Escrito de manera matricial, se tiene: $x' = Ax$, lo que significa que $x$ converge a un autovalor de la matriz de adyacencia.\n",
    "\n",
    "##### Katz's centrality (no haria falta), agregar random?, agregar betweeness\n",
    "\n",
    "\n",
    "# Ver en el libro y en las diapositivas, porque hay más.\n",
    "\n",
    "\n",
    "### Abstract del paper de Zotenko:\n",
    "\n",
    "The centrality-lethality rule, which notes that high-degree nodes in a protein interaction network tend to correspond to\n",
    "proteins that are essential, suggests that the topological prominence of a protein in a protein interaction network may be a\n",
    "good predictor of its biological importance. Even though the correlation between degree and essentiality was confirmed by\n",
    "many independent studies, the reason for this correlation remains illusive. Several hypotheses about putative connections\n",
    "between essentiality of hubs and the topology of protein–protein interaction networks have been proposed, but as we\n",
    "demonstrate, these explanations are not supported by the properties of protein interaction networks. To identify the main\n",
    "topological determinant of essentiality and to provide a biological explanation for the connection between the network\n",
    "topology and essentiality, we performed a rigorous analysis of six variants of the genomewide protein interaction network\n",
    "for *Saccharomyces cerevisiae* obtained using different techniques. We demonstrated that the majority of hubs are essential\n",
    "due to their involvement in Essential Complex Biological Modules, a group of densely connected proteins with shared\n",
    "biological function that are enriched in essential proteins. Moreover, we rejected two previously proposed explanations for\n",
    "the centrality-lethality rule, one relating the essentiality of hubs to their role in the overall network connectivity and another\n",
    "relying on the recently published essential protein interactions model.\n",
    "\n",
    "\n",
    "\n",
    "\n",
    "#### Referencias:\n",
    "\n",
    "[1] Newman, M.E.J. 2010. Networks: An Introduction. Oxford, UK: Oxford University Press."
   ]
  },
  {
   "cell_type": "code",
   "execution_count": null,
   "metadata": {},
   "outputs": [],
   "source": [
    "redesStr = ['Y2H','AP-MS','LIT','LIT_Reguly']\n",
    "redes = {}\n",
    "\n",
    "for s in redesStr:\n",
    "    df = pd.read_csv(path + 'yeast_' + s + '.txt', sep = '\\t')\n",
    "    if s == 'LIT_Reguly':\n",
    "        net = df[['Bait gene/protein','Hit gene/protein']].values.tolist()\n",
    "    else:\n",
    "        net = df.values.tolist()\n",
    "    redes[s] = nx.Graph(net)\n",
    "\n",
    "df = pd.read_csv(path + 'Essential_ORFs_paperHe.txt', sep='\\t')\n",
    "esenciales = df['ORF_name'].values.tolist()\n",
    "\n",
    "#borramos el primer y los dos ultimos elementos de la lista esenciales\n",
    "del esenciales[0]\n",
    "del esenciales[len(esenciales)-1]\n",
    "del esenciales[len(esenciales)-1]\n",
    "\n",
    "print(esenciales)\n",
    "\n",
    "#sacamos los espacios al final de cada nombre de la lista\n",
    "essentials = []\n",
    "for item in range(len(esenciales)):\n",
    "    essentials.append(esenciales[item].strip())\n",
    "    \n",
    "print(essentials)"
   ]
  },
  {
   "cell_type": "markdown",
   "metadata": {},
   "source": []
  },
  {
   "cell_type": "code",
   "execution_count": 10,
   "metadata": {},
   "outputs": [
    {
     "name": "stdout",
     "output_type": "stream",
     "text": [
      "             Nodes    Edges Directionality    DegMean  DegMin  DegMax  \\\n",
      "Y2H         2017.0   2929.0     Prob-Undir   2.904313     1.0    91.0   \n",
      "AP-MS       1622.0   9069.0     Prob-Undir  11.182491     1.0   127.0   \n",
      "LIT         1535.0   2924.0     Prob-Undir   3.809772     1.0    40.0   \n",
      "LIT_Reguly  3307.0  11858.0     Prob-Undir   7.171454     1.0   320.0   \n",
      "\n",
      "            DegDensity     C_tri     C_avg  Diameter (Giant Subgraph)  \n",
      "Y2H           0.001441  0.023617  0.046217                       14.0  \n",
      "AP-MS         0.006899  0.618567  0.554389                       15.0  \n",
      "LIT           0.002484  0.346342  0.292683                       19.0  \n",
      "LIT_Reguly    0.002169  0.124184  0.261134                       12.0  \n"
     ]
    }
   ],
   "source": [
    "'''Tabla 1 de Zotenko et. al. (2008)'''\n",
    "\n",
    "dfB1 = pd.DataFrame()\n",
    "\n",
    "for s in redesStr:\n",
    "\tdfB1.loc[s,'Nodes'] = redes[s].number_of_nodes()\n",
    "\tdfB1.loc[s,'Edges'] = redes[s].number_of_edges()\n",
    "\tif len(redes[s]) == len(np.unique(redes[s],axis=0)):\n",
    "\t\tdfB1.loc[s,'Directionality'] = 'Prob-Undir'\n",
    "\telse:\n",
    "\t\tdfB1.loc[s,'Directionality'] = 'Dir'\n",
    "\tnetDeg = np.array(list(redes[s].degree()))\n",
    "\tnetDeg = netDeg[:,1]\n",
    "\tnetDeg = netDeg.astype(int)\n",
    "\tdfB1.loc[s,'DegMean'] = np.mean(netDeg)\n",
    "\tdfB1.loc[s,'DegMin'] = np.min(netDeg)\n",
    "\tdfB1.loc[s,'DegMax'] = np.max(netDeg)\n",
    "\tdfB1.loc[s,'DegDensity'] = nx.density(redes[s])\n",
    "\tdfB1.loc[s,'C_tri'] = nx.transitivity(redes[s])\n",
    "\tdfB1.loc[s,'C_avg'] = nx.average_clustering(redes[s])\n",
    "\tgiant = max(nx.connected_component_subgraphs(redes[s]), key=len)\n",
    "\tdfB1.loc[s,'Diameter (Giant Subgraph)'] = nx.diameter(giant)\n",
    "\n",
    "print(dfB1)"
   ]
  },
  {
   "cell_type": "code",
   "execution_count": 11,
   "metadata": {},
   "outputs": [
    {
     "name": "stdout",
     "output_type": "stream",
     "text": [
      "                 Y2H     AP-MS       LIT  LIT_Reguly\n",
      "Y2H              Y2H  0.357957  0.365394    0.658899\n",
      "AP-MS       0.445129     AP-MS  0.569051    0.877928\n",
      "LIT          0.48013  0.601303       LIT    0.985016\n",
      "LIT_Reguly  0.401875  0.430602  0.457212  LIT_Reguly\n"
     ]
    }
   ],
   "source": [
    "'''Tabla 2 de Zotenko et. al. (2008)'''\n",
    "\n",
    "commonNodes = [[0 for j in range(len(redesStr))] for i in range(len(redesStr))] # lista de listas.\n",
    "\n",
    "for i in range(len(redesStr)):\n",
    "    for j in range(len(redesStr)):\n",
    "        if redesStr[i]==redesStr[j]:\n",
    "            commonNodes[i][j]= redesStr[i] # Se guarda el nombre de las redes en la diagonal.\n",
    "        else:\n",
    "            for nodoi in list(redes[redesStr[i]]): # se recorren los nodos de la primera red.\n",
    "                if nodoi in list(redes[redesStr[j]]): # si está en la segunda red.\n",
    "                    commonNodes[i][j] += 1/len(list(redes[redesStr[i]]))  # normalizado por la cantidad de nodos.\n",
    "\n",
    "dfB2 = pd.DataFrame(commonNodes, columns=redesStr)\n",
    "dfB2.index = redesStr\n",
    "\n",
    "print(dfB2)"
   ]
  },
  {
   "cell_type": "code",
   "execution_count": null,
   "metadata": {},
   "outputs": [],
   "source": [
    "'''Figura 1.a de Zotenko et. al. (2008)'''\n",
    "\n",
    "\n"
   ]
  },
  {
   "cell_type": "code",
   "execution_count": null,
   "metadata": {},
   "outputs": [],
   "source": []
  },
  {
   "cell_type": "code",
   "execution_count": null,
   "metadata": {},
   "outputs": [],
   "source": []
  },
  {
   "cell_type": "code",
   "execution_count": null,
   "metadata": {},
   "outputs": [],
   "source": []
  },
  {
   "cell_type": "code",
   "execution_count": null,
   "metadata": {},
   "outputs": [],
   "source": []
  },
  {
   "cell_type": "code",
   "execution_count": null,
   "metadata": {},
   "outputs": [],
   "source": []
  },
  {
   "cell_type": "code",
   "execution_count": null,
   "metadata": {},
   "outputs": [],
   "source": []
  },
  {
   "cell_type": "code",
   "execution_count": null,
   "metadata": {},
   "outputs": [],
   "source": []
  },
  {
   "cell_type": "code",
   "execution_count": null,
   "metadata": {},
   "outputs": [],
   "source": []
  }
 ],
 "metadata": {
  "kernelspec": {
   "display_name": "Python 3",
   "language": "python",
   "name": "python3"
  },
  "language_info": {
   "codemirror_mode": {
    "name": "ipython",
    "version": 3
   },
   "file_extension": ".py",
   "mimetype": "text/x-python",
   "name": "python",
   "nbconvert_exporter": "python",
   "pygments_lexer": "ipython3",
   "version": "3.6.5"
  }
 },
 "nbformat": 4,
 "nbformat_minor": 2
}
